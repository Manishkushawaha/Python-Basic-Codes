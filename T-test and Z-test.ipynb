{
 "cells": [
  {
   "cell_type": "raw",
   "id": "d98f9367",
   "metadata": {},
   "source": [
    "Example 1: Testing whether the mean height of a group of people is 170cm"
   ]
  },
  {
   "cell_type": "code",
   "execution_count": 3,
   "id": "5a620503",
   "metadata": {},
   "outputs": [
    {
     "name": "stdout",
     "output_type": "stream",
     "text": [
      "Null Hypothesis: 170\n",
      "Alternative Hypothesis:The mean height people of group is different from 170cm \n",
      "t-statistic: 2.0701966780270626\n",
      "p-value: 0.0683422555620214\n",
      "The null hypothesis is not rejected, the mean height of the group is equal to 170cm\n"
     ]
    }
   ],
   "source": [
    "import numpy as np\n",
    "from scipy.stats import ttest_1samp\n",
    "\n",
    "heights = np.array([175, 168, 172, 178, 170, 169, 174, 171, 170, 173])\n",
    "\n",
    "null_hypothesis = 170\n",
    "\n",
    "t_stat,p_value = ttest_1samp(heights,null_hypothesis)\n",
    "\n",
    "alpha = 0.05\n",
    "\n",
    "print(\"Null Hypothesis:\",null_hypothesis)\n",
    "print(\"Alternative Hypothesis:The mean height people of group is different from 170cm \")\n",
    "print(\"t-statistic:\", t_stat)\n",
    "print(\"p-value:\", p_value)\n",
    "\n",
    "if p_value < alpha:\n",
    "    \n",
    "    print(\"The null hypothesis is rejected, the mean height of the group is not equal to 170cm\")\n",
    "    \n",
    "else:\n",
    "    \n",
    "    print(\"The null hypothesis is not rejected, the mean height of the group is equal to 170cm\")"
   ]
  },
  {
   "cell_type": "raw",
   "id": "6205b587",
   "metadata": {},
   "source": [
    "Example 2: Testing whether the mean response time of a website is less than 3 seconds"
   ]
  },
  {
   "cell_type": "code",
   "execution_count": 4,
   "id": "395bfb26",
   "metadata": {},
   "outputs": [
    {
     "name": "stdout",
     "output_type": "stream",
     "text": [
      "Null Hypothesis: 3\n",
      "Alternative Hypothesis:the mean response time of a website is greater than 3 seconds \n",
      "t-statistic: -2.182820625326995\n",
      "p-value: 0.028456153209444165\n",
      "The null hypothesis is rejected, the mean response time is greater than 3 seconds\n"
     ]
    }
   ],
   "source": [
    "import numpy as np\n",
    "from scipy.stats import ttest_1samp\n",
    "\n",
    "response_times = np.array([2.8, 2.9, 2.7, 3.1, 2.8, 2.5, 3.2, 2.9, 2.6, 3.0])\n",
    "null_hypothesis = 3\n",
    "\n",
    "t_stat,p_value = ttest_1samp(response_times,null_hypothesis,alternative=\"less\")\n",
    "\n",
    "alpha = 0.05\n",
    "\n",
    "print(\"Null Hypothesis:\",null_hypothesis)\n",
    "print(\"Alternative Hypothesis:the mean response time of a website is less than 3 seconds \")\n",
    "print(\"t-statistic:\", t_stat)\n",
    "print(\"p-value:\", p_value)\n",
    "\n",
    "if p_value < alpha:\n",
    "    print(\"The null hypothesis is rejected, the mean response time is greater than 3 seconds\")\n",
    "else:\n",
    "    print(\"The null hypothesis is not rejected, the mean response time is less than or equal to 3 seconds\")\n",
    "    \n",
    "    "
   ]
  },
  {
   "cell_type": "raw",
   "id": "ed82efac",
   "metadata": {},
   "source": [
    "Suppose a researcher wants to test whether a new weight loss drug is more effective than the current drug in the market. The researcher takes a random sample of 30 individuals who are given the new drug and another random sample of 30 individuals who are given the current drug. After a period of 6 months, the weight loss of both groups are recorded. The researcher wants to use an independent samples t-test to determine if the new drug is significantly more effective in weight loss compared to the current drug"
   ]
  },
  {
   "cell_type": "code",
   "execution_count": 3,
   "id": "8d33dc2d",
   "metadata": {},
   "outputs": [
    {
     "name": "stdout",
     "output_type": "stream",
     "text": [
      "Null Hypothesis: The new drug is not significantly more effective than the current drug in weight loss\n",
      "Alternative Hypothesis: The new drug is significantly more effective than the current drug in weight loss\n",
      "New Drug Mean: 15.666666666666666\n",
      "Current Drug Mean: 13.3\n",
      "T_statistic: 3.7915625412329694\n",
      "P_value 0.00017945658491488162\n",
      "The p-value is 0.00035891316982976325 which is less than 0.05, so we reject the null hypothesis.\n"
     ]
    }
   ],
   "source": [
    "import numpy as np\n",
    "import scipy.stats as stats\n",
    "\n",
    "new_drug = np.array([14, 12, 18, 16, 20, 11, 13, 15, 17, 19, 14, 13, 12, 16, 18, 20, 14, 15,\n",
    "                     12, 19, 18, 16, 17, 20, 14, 15, 13, 12, 18, 19])\n",
    "current_drug = np.array([10, 11, 12, 14, 13, 15, 12, 13, 16, 15, 11, 12, 14, 15, 13, 16, 11, \n",
    "                         10, 12, 13, 14, 15, 16, 18, 12, 11, 14, 15, 12, 14])\n",
    "\n",
    "print(\"Null Hypothesis: The new drug is not significantly more effective than the current drug in weight loss\")\n",
    "\n",
    "print(\"Alternative Hypothesis: The new drug is significantly more effective than the current drug in weight loss\")\n",
    "\n",
    "t_stat,p_value = stats.ttest_ind(new_drug,current_drug)\n",
    "\n",
    "alpha = 0.05\n",
    "\n",
    "print(\"New Drug Mean:\", np.mean(new_drug))\n",
    "print(\"Current Drug Mean:\", np.mean(current_drug))\n",
    "print('T_statistic:',t_stat)\n",
    "print(\"P_value\",p_value/2)\n",
    "\n",
    "if p_value < 0.05:\n",
    "    print(\"The p-value is\", p_value, \"which is less than 0.05, so we reject the null hypothesis.\")\n",
    "else:\n",
    "    print(\"The p-value is\", p_value, \"which is greater than or equal to 0.05, so we fail to reject the null hypothesis.\")\n",
    "    \n",
    "    "
   ]
  },
  {
   "cell_type": "raw",
   "id": "a0ccfb0c",
   "metadata": {},
   "source": [
    "Independent samples t-test on train and car commute times with a sample size of 25 There is a significant difference in the average commute times between train and car commuters."
   ]
  },
  {
   "cell_type": "code",
   "execution_count": 2,
   "id": "ebe0e398",
   "metadata": {},
   "outputs": [
    {
     "name": "stdout",
     "output_type": "stream",
     "text": [
      "Null Hypothesis: There is no significant difference in the average commute times between train and car commuters.\n",
      "Alternative Hypothesis: There is a significant difference in the average commute times between train and car commuters.\n",
      "Train Commuter Mean: 31.19867634443676\n",
      "Car Commuter Mean: 24.847275475666965\n",
      "T_statistic: 4.5300089728123485\n",
      "P_value 3.912630776636338e-05\n",
      "The p-value is 3.912630776636338e-05 which is less than 0.05, so we reject the null hypothesis.\n"
     ]
    }
   ],
   "source": [
    "import numpy as np\n",
    "import scipy.stats as stat\n",
    "\n",
    "n = 25 \n",
    "\n",
    "train_commute = np.random.normal(30,5,n)\n",
    "car_commute = np.random.normal(25,5,n)\n",
    "\n",
    "print(\"Null Hypothesis: There is no significant difference in the average commute times between train and car commuters.\")\n",
    "\n",
    "print(\"Alternative Hypothesis: There is a significant difference in the average commute times between train and car commuters.\")\n",
    "\n",
    "t_stat, p_value = stats.ttest_ind(train_commute, car_commute)\n",
    "\n",
    "print(\"Train Commuter Mean:\", np.mean(train_commute))\n",
    "print(\"Car Commuter Mean:\", np.mean(car_commute))\n",
    "\n",
    "print('T_statistic:',t_stat)\n",
    "print(\"P_value\",p_value)\n",
    "\n",
    "if p_value < 0.05:\n",
    "    print(\"The p-value is\", p_value, \"which is less than 0.05, so we reject the null hypothesis.\")\n",
    "else:\n",
    "    print(\"The p-value is\", p_value, \"which is greater than or equal to 0.05, so we fail to reject the null hypothesis.\")\n",
    "    "
   ]
  },
  {
   "cell_type": "code",
   "execution_count": null,
   "id": "cd0476d6",
   "metadata": {},
   "outputs": [],
   "source": []
  },
  {
   "cell_type": "code",
   "execution_count": 5,
   "id": "83a479d7",
   "metadata": {},
   "outputs": [
    {
     "name": "stdout",
     "output_type": "stream",
     "text": [
      "Null Hypothesis Ho: The mean score of students before and after a tutoring program is the same..\n",
      "Alternative Hypothesis H1 The mean score of students after a tutoring program is different from the mean score before the program.\n",
      "Paired t-test results:\n",
      "t-statistic:  -19.060878079740494\n",
      "p-value:  7.620421870090784e-14\n",
      "Reject null hypothesis. There is a statistically significant difference in mean scores.\n"
     ]
    }
   ],
   "source": [
    "import scipy.stats as stats\n",
    "\n",
    "\n",
    "before_scores = [75, 75, 73, 74, 78, 76, 72, 77, 74, 72, 79, 75, 75, 73, 74, 78, 76, 72, 77, 74]\n",
    "after_scores = [80, 80, 82, 81, 83, 81, 77, 82, 79, 77, 84, 80, 80, 82, 81, 83, 81, 77, 82, 79]\n",
    "\n",
    "print(\"Null Hypothesis Ho: The mean score of students before and after a tutoring program is the same..\")\n",
    "\n",
    "H1 = \"The mean score of students after a tutoring program is different from the mean score before the program.\"\n",
    "\n",
    "print(\"Alternative Hypothesis H1\",H1)\n",
    "\n",
    "\n",
    "t_stat, p_value = stats.ttest_rel(before_scores, after_scores)\n",
    "\n",
    "\n",
    "alpha = 0.05\n",
    "\n",
    "\n",
    "print(\"Paired t-test results:\")\n",
    "print(\"t-statistic: \", t_stat)\n",
    "print(\"p-value: \", p_value)\n",
    "\n",
    "\n",
    "if p_value < alpha:\n",
    "    print(\"Reject null hypothesis. There is a statistically significant difference in mean scores.\")\n",
    "else:\n",
    "    print(\"Fail to reject null hypothesis. There is no statistically significant difference in mean scores.\")\n"
   ]
  },
  {
   "cell_type": "code",
   "execution_count": 4,
   "id": "cf9d0090",
   "metadata": {},
   "outputs": [
    {
     "name": "stdout",
     "output_type": "stream",
     "text": [
      "Null Hypothesis Ho: The average time taken to complete a task using Method A is the same as using Method B.\n",
      "Alternative Hypothesis H1: The average time taken to complete a task using Method A is different from using Method B.\n",
      "Paired t-test results:\n",
      "t-statistic:  1.4411533842457842\n",
      "p-value:  0.16103934953023094\n",
      "Fail to reject null hypothesis. There is no statistically significant difference in average times.\n"
     ]
    }
   ],
   "source": [
    "import scipy.stats as stats\n",
    "\n",
    "\n",
    "method_a_times = [12.5, 13, 12, 11.5, 12, 12.5, 12.5, 11, 11.5, 12, 12.5, 12, 11, 11.5, 11.5, \n",
    "                  12, 12.5, 12, 11, 11.5, 12, 12.5, 12, 11, 11.5, 11.5, 12, 12.5]\n",
    "method_b_times = [11, 11.5, 11.5, 12, 12.5, 12, 11, 11.5, 11.5, 12, 12.5, 12, 11, 11.5, 11.5, \n",
    "                  12, 12.5, 12, 11, 11.5, 12, 12.5, 12, 11, 11.5, 11.5, 12, 12.5]\n",
    "\n",
    "print(\"Null Hypothesis Ho: The average time taken to complete a task using Method A is the same as using Method B.\")\n",
    "\n",
    "print(\"Alternative Hypothesis H1: The average time taken to complete a task using Method A is different from using Method B.\")\n",
    "\n",
    "\n",
    "t_stat, p_value = stats.ttest_rel(method_a_times, method_b_times)\n",
    "\n",
    "\n",
    "alpha = 0.05\n",
    "\n",
    "\n",
    "print(\"Paired t-test results:\")\n",
    "print(\"t-statistic: \", t_stat)\n",
    "print(\"p-value: \", p_value)\n",
    "\n",
    "\n",
    "if p_value < alpha:\n",
    "    print(\"Reject null hypothesis. There is a statistically significant difference in average times.\")\n",
    "else:\n",
    "    print(\"Fail to reject null hypothesis. There is no statistically significant difference in average times.\")\n"
   ]
  },
  {
   "cell_type": "code",
   "execution_count": 6,
   "id": "c6fa5c01",
   "metadata": {},
   "outputs": [],
   "source": [
    "from statsmodels.stats.weightstats import ztest"
   ]
  },
  {
   "cell_type": "code",
   "execution_count": 4,
   "id": "d268ad22",
   "metadata": {},
   "outputs": [
    {
     "name": "stdout",
     "output_type": "stream",
     "text": [
      "Reject the null hypothesis. The population mean weight is less than 5kg.\n",
      "p-value: 0.002338867490523615\n"
     ]
    }
   ],
   "source": [
    "import numpy as np\n",
    "from scipy.stats import norm\n",
    "\n",
    "# Given data\n",
    "sample_size = 50\n",
    "sample_mean = 4.8\n",
    "population_mean_hypothesis = 5\n",
    "sample_std_dev = 0.5\n",
    "significance_level = 0.05\n",
    "\n",
    "# Calculate the Z-score\n",
    "z = (sample_mean - population_mean_hypothesis) / (sample_std_dev / np.sqrt(sample_size))\n",
    "\n",
    "\n",
    "critical_value = norm.ppf(significance_level)\n",
    "\n",
    "\n",
    "if z < critical_value:\n",
    "     print(\"Reject the null hypothesis. The population mean weight is less than 5kg.\")\n",
    "else:\n",
    "    print(\"Fail to reject the null hypothesis. The population mean weight is not significantly less than 5kg.\")\n",
    "\n",
    "# Calculate the p-value\n",
    "p_value = norm.cdf(z)\n",
    "print(\"p-value:\", p_value)\n",
    "\n",
    "   "
   ]
  },
  {
   "cell_type": "code",
   "execution_count": 2,
   "id": "06d0ec92",
   "metadata": {},
   "outputs": [
    {
     "name": "stdout",
     "output_type": "stream",
     "text": [
      "z_statistic 0.31739321420558597\n",
      "p_value 0.7509452555298537\n",
      "Fail to reject null hypothesis. There is no statistically significant difference in the mean heights of adult males in the US and canada.\n"
     ]
    }
   ],
   "source": [
    "from statsmodels.stats.weightstats import ztest \n",
    "\n",
    "us_heights = [69.1, 68.2, 71.3, 72.4, 67.8, 70.5, 73.1, 68.9, 71.2, 69.8]\n",
    "canada_heights = [70.2, 67.9, 71.1, 69.8, 68.5, 72.3, 69.2, 70.9, 68.6, 71.5]\n",
    "\n",
    "null_hypothesis = 'The mean height of adult males in the us is the same as the mean height of adult males in canada'\n",
    "\n",
    "z_test,p_value = ztest(us_heights,canada_heights,value =0,alternative='two-sided')\n",
    "\n",
    "alpha = 0.05\n",
    "\n",
    "print('z_statistic',z_test)\n",
    "print('p_value',p_value)\n",
    "\n",
    "if p_value < alpha:\n",
    "    print(\"Reject null hypothesis. There is a statistically significant difference in the mean heights of adult males in the US and canada.\")\n",
    "else:\n",
    "    print(\"Fail to reject null hypothesis. There is no statistically significant difference in the mean heights of adult males in the US and canada.\")\n"
   ]
  },
  {
   "cell_type": "code",
   "execution_count": null,
   "id": "a4e29f58",
   "metadata": {},
   "outputs": [],
   "source": []
  }
 ],
 "metadata": {
  "kernelspec": {
   "display_name": "Python 3 (ipykernel)",
   "language": "python",
   "name": "python3"
  },
  "language_info": {
   "codemirror_mode": {
    "name": "ipython",
    "version": 3
   },
   "file_extension": ".py",
   "mimetype": "text/x-python",
   "name": "python",
   "nbconvert_exporter": "python",
   "pygments_lexer": "ipython3",
   "version": "3.9.13"
  }
 },
 "nbformat": 4,
 "nbformat_minor": 5
}
