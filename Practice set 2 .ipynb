{
 "cells": [
  {
   "cell_type": "markdown",
   "id": "73f54132",
   "metadata": {},
   "source": [
    "Q1. Create a list in python using the followings: 2,3,4,5,6,7 with variable ‘a’\n",
    "\n",
    "Add ‘mango to the above list\n",
    "\n",
    "Also add banana, grapes & orange in the list \n",
    "\n",
    "insert apple in the 5th position of a variable ‘a’\n",
    "\n",
    "Remove last item from the list\t "
   ]
  },
  {
   "cell_type": "code",
   "execution_count": 10,
   "id": "c47bb065",
   "metadata": {},
   "outputs": [],
   "source": [
    "a = [2,3,4,5,6,7]\n",
    "\n",
    "a.append('mango')\n",
    "\n",
    "a.extend(['banana','grapes','orange'])\n",
    "\n",
    "a.insert(4,'apple')"
   ]
  },
  {
   "cell_type": "code",
   "execution_count": 11,
   "id": "34c2ffcf",
   "metadata": {},
   "outputs": [
    {
     "data": {
      "text/plain": [
       "[2, 3, 4, 5, 'apple', 6, 7, 'mango', 'banana', 'grapes', 'orange']"
      ]
     },
     "execution_count": 11,
     "metadata": {},
     "output_type": "execute_result"
    }
   ],
   "source": [
    "a"
   ]
  },
  {
   "cell_type": "code",
   "execution_count": 12,
   "id": "653e9ab1",
   "metadata": {},
   "outputs": [
    {
     "data": {
      "text/plain": [
       "'orange'"
      ]
     },
     "execution_count": 12,
     "metadata": {},
     "output_type": "execute_result"
    }
   ],
   "source": [
    "a.pop()"
   ]
  },
  {
   "cell_type": "markdown",
   "id": "335a896b",
   "metadata": {},
   "source": [
    "Q2.\n",
    "\n",
    "L = [1,2,3,4,5,6,7]\n",
    "\n",
    "Using the above list slice from 1:4"
   ]
  },
  {
   "cell_type": "code",
   "execution_count": 14,
   "id": "25a8078f",
   "metadata": {},
   "outputs": [
    {
     "data": {
      "text/plain": [
       "[2, 3, 4]"
      ]
     },
     "execution_count": 14,
     "metadata": {},
     "output_type": "execute_result"
    }
   ],
   "source": [
    "L = [1,2,3,4,5,6,7]\n",
    "L[1:4]"
   ]
  },
  {
   "cell_type": "markdown",
   "id": "a4b475dd",
   "metadata": {},
   "source": [
    "Q3. Reverse the order of given string L = [4,5,6,8,3] Without using reverse() function."
   ]
  },
  {
   "cell_type": "code",
   "execution_count": 16,
   "id": "f98d247b",
   "metadata": {},
   "outputs": [],
   "source": [
    "L = [4,5,6,8,3]\n",
    "L.reverse()"
   ]
  },
  {
   "cell_type": "code",
   "execution_count": 17,
   "id": "bb4da476",
   "metadata": {},
   "outputs": [
    {
     "data": {
      "text/plain": [
       "[3, 8, 6, 5, 4]"
      ]
     },
     "execution_count": 17,
     "metadata": {},
     "output_type": "execute_result"
    }
   ],
   "source": [
    "L"
   ]
  },
  {
   "cell_type": "markdown",
   "id": "52c27b1e",
   "metadata": {},
   "source": [
    "Q4.Use list comprehension to square the given list L=[2,4,7,3,6,8]"
   ]
  },
  {
   "cell_type": "code",
   "execution_count": 21,
   "id": "8bce9e32",
   "metadata": {},
   "outputs": [
    {
     "name": "stdout",
     "output_type": "stream",
     "text": [
      "[4, 16, 49, 9, 36, 64]\n"
     ]
    }
   ],
   "source": [
    "L=[2,4,7,3,6,8]\n",
    "\n",
    "squre = [x**2 for x in L]\n",
    "\n",
    "print(squre)"
   ]
  },
  {
   "cell_type": "markdown",
   "id": "0568c71b",
   "metadata": {},
   "source": [
    "Q5.Create a function that takes in a tuple of integers and returns the sum of the integers. Test the function with a tuple of your choice. \n"
   ]
  },
  {
   "cell_type": "code",
   "execution_count": 22,
   "id": "3f90d845",
   "metadata": {},
   "outputs": [
    {
     "name": "stdout",
     "output_type": "stream",
     "text": [
      "15\n"
     ]
    }
   ],
   "source": [
    "def sum_tuple_integer(t):\n",
    "    \n",
    "    return sum(t)\n",
    "\n",
    "t = (1,2,3,4,5)\n",
    "\n",
    "print(sum_tuple_integer(t))"
   ]
  },
  {
   "cell_type": "markdown",
   "id": "13779e64",
   "metadata": {},
   "source": [
    "Q6. Create two sets of your favourite fruits, and use the union() method to combine them into a single set. Print the resulting set to the console"
   ]
  },
  {
   "cell_type": "code",
   "execution_count": 23,
   "id": "20666386",
   "metadata": {},
   "outputs": [
    {
     "name": "stdout",
     "output_type": "stream",
     "text": [
      "{'pear', 'apple', 'grape', 'banana', 'kiwi', 'orange'}\n"
     ]
    }
   ],
   "source": [
    "fruits1 = {\"apple\", \"banana\", \"pear\"}\n",
    "\n",
    "fruits2 = {\"orange\", \"grape\", \"kiwi\"}\n",
    "\n",
    "combined_fruits = fruits1.union(fruits2)\n",
    "\n",
    "print(combined_fruits)"
   ]
  },
  {
   "cell_type": "markdown",
   "id": "3ea2a0f0",
   "metadata": {},
   "source": [
    "Q7. Create a set of random words, and use the add() method to add a new word to the set. Print the resulting set to the console."
   ]
  },
  {
   "cell_type": "code",
   "execution_count": 24,
   "id": "dc26e918",
   "metadata": {},
   "outputs": [
    {
     "name": "stdout",
     "output_type": "stream",
     "text": [
      "{'world', 'hello', 'programming', 'python'}\n"
     ]
    }
   ],
   "source": [
    "words = {\"hello\", \"world\", \"python\"}\n",
    "\n",
    "words.add(\"programming\")\n",
    "\n",
    "print(words)"
   ]
  },
  {
   "cell_type": "markdown",
   "id": "8f8b7022",
   "metadata": {},
   "source": [
    "Q8. Create a set of your favourite animals, and use the remove() method to remove one animal from the set. Print the resulting set to the console"
   ]
  },
  {
   "cell_type": "code",
   "execution_count": 25,
   "id": "b13badbd",
   "metadata": {},
   "outputs": [
    {
     "name": "stdout",
     "output_type": "stream",
     "text": [
      "{'parrot', 'dog', 'hamster'}\n"
     ]
    }
   ],
   "source": [
    "animals = {\"dog\", \"cat\", \"hamster\", \"parrot\"}\n",
    "\n",
    "animals.remove(\"cat\")\n",
    "\n",
    "print(animals)"
   ]
  },
  {
   "cell_type": "markdown",
   "id": "74fe420d",
   "metadata": {},
   "source": [
    "Q9.favorite_books = {\"1984\", \"To Kill a Mockingbird\", \"Pride and Prejudice\"} favorite_movies = [\"The Shawshank Redemption\", \"The Godfather\", \"The Dark Knight\"] Use the zip() function to combine the book set and movie list into a list of tuples representing book/movie pairs. Print the resulting list."
   ]
  },
  {
   "cell_type": "code",
   "execution_count": 26,
   "id": "284c865b",
   "metadata": {},
   "outputs": [
    {
     "name": "stdout",
     "output_type": "stream",
     "text": [
      "[('Pride and Prejudice', 'The Shawshank Redemption'), ('To Kill a Mockingbird', 'The Godfather'), ('1984', 'The Dark Knight')]\n"
     ]
    }
   ],
   "source": [
    "favorite_books = {\"1984\", \"To Kill a Mockingbird\", \"Pride and Prejudice\"} \n",
    "\n",
    "favorite_movies = [\"The Shawshank Redemption\", \"The Godfather\", \"The Dark Knight\"]\n",
    "\n",
    "book_movie_pair = list(zip(favorite_books,favorite_movies))\n",
    "\n",
    "print(book_movie_pair)"
   ]
  },
  {
   "cell_type": "markdown",
   "id": "7eb03d1a",
   "metadata": {},
   "source": [
    "Q10. Write a Python program to find the difference between consecutive numbers in a list"
   ]
  },
  {
   "cell_type": "code",
   "execution_count": 30,
   "id": "07039313",
   "metadata": {},
   "outputs": [
    {
     "name": "stdout",
     "output_type": "stream",
     "text": [
      "[4, 3, 6, 4]\n"
     ]
    }
   ],
   "source": [
    "def find_diff_consecutive_numbers(lst):\n",
    "\n",
    "    diffs = []\n",
    "\n",
    "    for i in range(1, len(lst)):\n",
    "\n",
    "        diff = lst[i] - lst[i-1]\n",
    "\n",
    "        diffs.append(diff)\n",
    "\n",
    "    return diffs\n",
    "\n",
    "my_list = [5, 9, 12, 18, 22]\n",
    "\n",
    "diffs = find_diff_consecutive_numbers(my_list)\n",
    "\n",
    "print(diffs) "
   ]
  },
  {
   "cell_type": "code",
   "execution_count": null,
   "id": "23391c42",
   "metadata": {},
   "outputs": [],
   "source": []
  }
 ],
 "metadata": {
  "kernelspec": {
   "display_name": "Python 3 (ipykernel)",
   "language": "python",
   "name": "python3"
  },
  "language_info": {
   "codemirror_mode": {
    "name": "ipython",
    "version": 3
   },
   "file_extension": ".py",
   "mimetype": "text/x-python",
   "name": "python",
   "nbconvert_exporter": "python",
   "pygments_lexer": "ipython3",
   "version": "3.9.13"
  }
 },
 "nbformat": 4,
 "nbformat_minor": 5
}
