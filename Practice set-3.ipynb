{
 "cells": [
  {
   "cell_type": "markdown",
   "id": "0ceab37a",
   "metadata": {},
   "source": [
    "Q1. Create a dictionary called fruits with the following key-value pairs:\n",
    "\n",
    "\"apple\": 0.75\n",
    "\n",
    "\"banana\": 1.25\n",
    "\n",
    "\"orange\": 0.90\n",
    "\n",
    "Then, print out the price of a banana."
   ]
  },
  {
   "cell_type": "code",
   "execution_count": 4,
   "id": "c8164d46",
   "metadata": {},
   "outputs": [
    {
     "name": "stdout",
     "output_type": "stream",
     "text": [
      "1.25\n"
     ]
    }
   ],
   "source": [
    "fruits = {\"apple\": 0.75,\"banana\": 1.25,\"orange\": 0.90}\n",
    "\n",
    "print(fruits['banana'])"
   ]
  },
  {
   "cell_type": "markdown",
   "id": "31b328a1",
   "metadata": {},
   "source": [
    "Q2. Create an empty dictionary called ages. Add the following key-value pairs to the dictionary:\n",
    "\n",
    "\"Alice\": 30\n",
    "\n",
    "\"Bob\": 25\n",
    "\n",
    "\"Charlie\": 35\n",
    "\n",
    "Then, print out the age of Charlie."
   ]
  },
  {
   "cell_type": "code",
   "execution_count": 5,
   "id": "e4a21ea6",
   "metadata": {},
   "outputs": [
    {
     "name": "stdout",
     "output_type": "stream",
     "text": [
      "35\n"
     ]
    }
   ],
   "source": [
    "ages = {}\n",
    "\n",
    "ages[\"Alice\"] = 30\n",
    "\n",
    "ages[\"Bob\"] = 25\n",
    "\n",
    "ages[\"Charlie\"] = 35\n",
    "\n",
    "print(ages['Charlie'])"
   ]
  },
  {
   "cell_type": "markdown",
   "id": "67ee395e",
   "metadata": {},
   "source": [
    "Q3. Write a function called word_count(text) that takes a string as input and returns a dictionary where each key is a word in the text and its value is the number of times that word appears in the text. For example, word_count(\"hello world hello\") should return {\"hello\": 2, \"world\": 1}."
   ]
  },
  {
   "cell_type": "code",
   "execution_count": 10,
   "id": "450724cd",
   "metadata": {},
   "outputs": [
    {
     "name": "stdout",
     "output_type": "stream",
     "text": [
      "{'hello': 2, 'world': 1}\n"
     ]
    }
   ],
   "source": [
    "def word_count(text):\n",
    "    \n",
    "    counts = {}\n",
    "    \n",
    "    words = text.split()\n",
    "    \n",
    "    for i in words:\n",
    "        \n",
    "        if i in counts:\n",
    "            \n",
    "            counts[i] = counts[i] + 1\n",
    "            \n",
    "        else:\n",
    "            \n",
    "            counts[i] = 1\n",
    "            \n",
    "    return counts\n",
    "\n",
    "text = \"hello world hello\"\n",
    "\n",
    "print(word_count(text))"
   ]
  },
  {
   "cell_type": "markdown",
   "id": "c16a0a51",
   "metadata": {},
   "source": [
    "Q4. Create a dictionary called phone_book with the following key-value pairs:\n",
    "\n",
    "\"Alice\": \"555-1234\"\n",
    "\n",
    "\"Bob\": \"555-5678\"\n",
    "\n",
    "\"Charlie\": \"555-9012\"\n",
    "\n",
    "Then, prompt the user to enter a name and print out the corresponding phone number. If the name is not in the phone book, print out a message saying that the name was not found."
   ]
  },
  {
   "cell_type": "code",
   "execution_count": 11,
   "id": "ffa09bce",
   "metadata": {},
   "outputs": [
    {
     "name": "stdout",
     "output_type": "stream",
     "text": [
      "Enter the name Bob\n",
      "555-5678\n"
     ]
    }
   ],
   "source": [
    "phone_book = {\"Alice\": \"555-1234\",\n",
    "\n",
    "\"Bob\": \"555-5678\",\n",
    "\n",
    "\"Charlie\": \"555-9012\"}\n",
    "\n",
    "name = input(\"Enter the name \")\n",
    "\n",
    "if name in phone_book:\n",
    "    \n",
    "    print(phone_book[name])\n",
    "\n",
    "else:\n",
    "    \n",
    "    print(\"Name not found in phone book\")\n"
   ]
  },
  {
   "cell_type": "markdown",
   "id": "c1539f03",
   "metadata": {},
   "source": [
    "Q5. Write a program that prompts the user to enter a number between 1 and 10. If the number is less than 5, print out \"Too low!\", otherwise print out \"Too high!\".\n"
   ]
  },
  {
   "cell_type": "code",
   "execution_count": 12,
   "id": "62503b49",
   "metadata": {},
   "outputs": [
    {
     "name": "stdout",
     "output_type": "stream",
     "text": [
      "Enter the number between 1 and 10 :6\n",
      "Too high!\n"
     ]
    }
   ],
   "source": [
    "num = int(input(\"Enter the number between 1 and 10 :\"))\n",
    "\n",
    "if num < 5:\n",
    "    \n",
    "    print(\"Too low!\")\n",
    "    \n",
    "else:\n",
    "    print(\"Too high!\")"
   ]
  },
  {
   "cell_type": "markdown",
   "id": "4fad75a9",
   "metadata": {},
   "source": [
    "Q6. Write a program that prompts the user to enter a password. If the password is \"password123\", print out \"Access granted\", otherwise print out \"Access denied\"."
   ]
  },
  {
   "cell_type": "code",
   "execution_count": 13,
   "id": "a94d3321",
   "metadata": {},
   "outputs": [
    {
     "name": "stdout",
     "output_type": "stream",
     "text": [
      "Enter the password:password\n",
      "Access denied\n"
     ]
    }
   ],
   "source": [
    "password = input(\"Enter the password:\")\n",
    "\n",
    "if password == \"password123\":\n",
    "    \n",
    "    print(\"Access granted\")\n",
    "    \n",
    "else:\n",
    "    print(\"Access denied\")"
   ]
  },
  {
   "cell_type": "markdown",
   "id": "71c745b6",
   "metadata": {},
   "source": [
    "Q7. Write a program that prompts the user to enter a positive integer. Then, use a loop to print out all the odd numbers from 1 to that integer."
   ]
  },
  {
   "cell_type": "code",
   "execution_count": 15,
   "id": "5ba4125e",
   "metadata": {},
   "outputs": [
    {
     "name": "stdout",
     "output_type": "stream",
     "text": [
      "Enter a positive integer:7\n",
      "odd number from 1 to 7 :\n",
      "1\n",
      "3\n",
      "5\n",
      "7\n"
     ]
    }
   ],
   "source": [
    "n = int(input(\"Enter a positive integer:\"))\n",
    "\n",
    "print(\"odd number from 1 to\",n,\":\")\n",
    "\n",
    "for i in range(1,n+1,2):\n",
    "    \n",
    "    print(i)"
   ]
  },
  {
   "cell_type": "markdown",
   "id": "ad62ee8a",
   "metadata": {},
   "source": [
    "Q8. Write a program that generates a random number between 1 and 100 and then prompts the user to guess the number. If the user's guess is too low, print out \"Too low!\", if the guess is too high, print out \"Too high!\", and if the guess is correct, print out \"You win!\"."
   ]
  },
  {
   "cell_type": "code",
   "execution_count": 16,
   "id": "3b2b8095",
   "metadata": {},
   "outputs": [
    {
     "name": "stdout",
     "output_type": "stream",
     "text": [
      "guess the number(between 1 and 100):99\n",
      "Too high!\n"
     ]
    }
   ],
   "source": [
    "import random \n",
    "\n",
    "number = random.randint(1,100)\n",
    "\n",
    "guess = int(input(\"guess the number(between 1 and 100):\"))\n",
    "\n",
    "if guess < number:\n",
    "    \n",
    "    print(\"Too low!\")\n",
    "    \n",
    "elif guess > number:\n",
    "    \n",
    "    print(\"Too high!\")\n",
    "    \n",
    "else:\n",
    "    \n",
    "    print(\"you win\")"
   ]
  },
  {
   "cell_type": "markdown",
   "id": "03efa718",
   "metadata": {},
   "source": [
    "Q9. Write a program that generates a random number between 1 and 10 and then prompts the user to guess the number. The user has three attempts to guess the number. If the user guesses correctly within \n",
    "three attempts, print out \"You win!\", otherwise print out \"You lose!\"."
   ]
  },
  {
   "cell_type": "code",
   "execution_count": 18,
   "id": "830f224e",
   "metadata": {},
   "outputs": [
    {
     "name": "stdout",
     "output_type": "stream",
     "text": [
      "guess the number(between 1 and 100):9\n",
      "Try again!\n",
      "guess the number(between 1 and 100):8\n",
      "Try again!\n",
      "guess the number(between 1 and 100):4\n",
      "You lose!\n"
     ]
    }
   ],
   "source": [
    "import random \n",
    "\n",
    "number = random.randint(1,100)\n",
    "\n",
    "attempts = 3\n",
    "\n",
    "for i in range(attempts):\n",
    "    \n",
    "    guess = int(input(\"guess the number(between 1 and 100):\"))\n",
    "    \n",
    "    if guess == number:\n",
    "        \n",
    "        print(\"You win!\")\n",
    "        \n",
    "        break\n",
    "        \n",
    "    elif i == attempts -1:\n",
    "        \n",
    "           print(\"You lose!\")\n",
    "    else:\n",
    "        print(\"Try again!\")\n",
    "        "
   ]
  },
  {
   "cell_type": "markdown",
   "id": "bc0e949a",
   "metadata": {},
   "source": [
    "Q10. Write a program that prompts the user to enter their age and then prints out whether they are a child (age 0-12), a teenager (age 13-19), an adult (age 20-59), or a senior (age 60+)"
   ]
  },
  {
   "cell_type": "code",
   "execution_count": 19,
   "id": "a70c5879",
   "metadata": {},
   "outputs": [
    {
     "name": "stdout",
     "output_type": "stream",
     "text": [
      "Please enter your age: 9\n",
      "You are a child.\n"
     ]
    }
   ],
   "source": [
    "age = int(input(\"Please enter your age: \"))\n",
    "\n",
    "if age < 0:\n",
    "    \n",
    "    print(\"Invalid age entered.\")\n",
    "    \n",
    "elif age <= 12:\n",
    "    \n",
    "    print(\"You are a child.\")\n",
    "    \n",
    "elif age <= 19:\n",
    "    \n",
    "    print(\"You are a teenager.\")\n",
    "    \n",
    "elif age <= 59:\n",
    "    \n",
    "    print(\"You are an adult.\")\n",
    "\n",
    "else:\n",
    "    \n",
    "    print(\"You are a senior.\")\n"
   ]
  },
  {
   "cell_type": "code",
   "execution_count": null,
   "id": "c9e45e4c",
   "metadata": {},
   "outputs": [],
   "source": []
  }
 ],
 "metadata": {
  "kernelspec": {
   "display_name": "Python 3 (ipykernel)",
   "language": "python",
   "name": "python3"
  },
  "language_info": {
   "codemirror_mode": {
    "name": "ipython",
    "version": 3
   },
   "file_extension": ".py",
   "mimetype": "text/x-python",
   "name": "python",
   "nbconvert_exporter": "python",
   "pygments_lexer": "ipython3",
   "version": "3.9.13"
  }
 },
 "nbformat": 4,
 "nbformat_minor": 5
}
