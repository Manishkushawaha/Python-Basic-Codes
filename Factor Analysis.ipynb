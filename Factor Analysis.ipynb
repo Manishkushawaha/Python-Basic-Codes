{
 "cells": [
  {
   "cell_type": "code",
   "execution_count": 1,
   "id": "3a7cc59a",
   "metadata": {},
   "outputs": [
    {
     "name": "stdout",
     "output_type": "stream",
     "text": [
      "Defaulting to user installation because normal site-packages is not writeable\n",
      "Requirement already satisfied: factor_analyzer in c:\\users\\dell\\appdata\\roaming\\python\\python39\\site-packages (0.4.1)\n",
      "Requirement already satisfied: pre-commit in c:\\users\\dell\\appdata\\roaming\\python\\python39\\site-packages (from factor_analyzer) (3.2.2)\n",
      "Requirement already satisfied: pandas in c:\\programdata\\anaconda3\\lib\\site-packages (from factor_analyzer) (1.4.4)\n",
      "Requirement already satisfied: scikit-learn in c:\\programdata\\anaconda3\\lib\\site-packages (from factor_analyzer) (1.0.2)\n",
      "Requirement already satisfied: scipy in c:\\programdata\\anaconda3\\lib\\site-packages (from factor_analyzer) (1.9.1)\n",
      "Requirement already satisfied: numpy in c:\\programdata\\anaconda3\\lib\\site-packages (from factor_analyzer) (1.21.5)\n",
      "Requirement already satisfied: pytz>=2020.1 in c:\\programdata\\anaconda3\\lib\\site-packages (from pandas->factor_analyzer) (2022.1)\n",
      "Requirement already satisfied: python-dateutil>=2.8.1 in c:\\programdata\\anaconda3\\lib\\site-packages (from pandas->factor_analyzer) (2.8.2)\n",
      "Requirement already satisfied: cfgv>=2.0.0 in c:\\users\\dell\\appdata\\roaming\\python\\python39\\site-packages (from pre-commit->factor_analyzer) (3.3.1)\n",
      "Requirement already satisfied: pyyaml>=5.1 in c:\\programdata\\anaconda3\\lib\\site-packages (from pre-commit->factor_analyzer) (6.0)\n",
      "Requirement already satisfied: nodeenv>=0.11.1 in c:\\users\\dell\\appdata\\roaming\\python\\python39\\site-packages (from pre-commit->factor_analyzer) (1.7.0)\n",
      "Requirement already satisfied: identify>=1.0.0 in c:\\users\\dell\\appdata\\roaming\\python\\python39\\site-packages (from pre-commit->factor_analyzer) (2.5.23)\n",
      "Requirement already satisfied: virtualenv>=20.10.0 in c:\\users\\dell\\appdata\\roaming\\python\\python39\\site-packages (from pre-commit->factor_analyzer) (20.23.0)\n",
      "Requirement already satisfied: threadpoolctl>=2.0.0 in c:\\programdata\\anaconda3\\lib\\site-packages (from scikit-learn->factor_analyzer) (2.2.0)\n",
      "Requirement already satisfied: joblib>=0.11 in c:\\users\\dell\\appdata\\roaming\\python\\python39\\site-packages (from scikit-learn->factor_analyzer) (1.2.0)\n",
      "Requirement already satisfied: setuptools in c:\\programdata\\anaconda3\\lib\\site-packages (from nodeenv>=0.11.1->pre-commit->factor_analyzer) (63.4.1)\n",
      "Requirement already satisfied: six>=1.5 in c:\\programdata\\anaconda3\\lib\\site-packages (from python-dateutil>=2.8.1->pandas->factor_analyzer) (1.16.0)\n",
      "Requirement already satisfied: distlib<1,>=0.3.6 in c:\\users\\dell\\appdata\\roaming\\python\\python39\\site-packages (from virtualenv>=20.10.0->pre-commit->factor_analyzer) (0.3.6)\n",
      "Requirement already satisfied: platformdirs<4,>=3.2 in c:\\users\\dell\\appdata\\roaming\\python\\python39\\site-packages (from virtualenv>=20.10.0->pre-commit->factor_analyzer) (3.5.0)\n",
      "Requirement already satisfied: filelock<4,>=3.11 in c:\\users\\dell\\appdata\\roaming\\python\\python39\\site-packages (from virtualenv>=20.10.0->pre-commit->factor_analyzer) (3.12.0)\n",
      "Note: you may need to restart the kernel to use updated packages.\n"
     ]
    }
   ],
   "source": [
    "pip install factor_analyzer"
   ]
  },
  {
   "cell_type": "code",
   "execution_count": 2,
   "id": "d9d9f7ea",
   "metadata": {},
   "outputs": [],
   "source": [
    "import pandas as pd\n",
    "import numpy as np\n",
    "import matplotlib.pyplot as plt\n",
    "from factor_analyzer import FactorAnalyzer\n"
   ]
  },
  {
   "cell_type": "code",
   "execution_count": 3,
   "id": "ea0dce19",
   "metadata": {},
   "outputs": [],
   "source": [
    "from sklearn.datasets import load_iris\n",
    "\n",
    "iris = load_iris()\n",
    "X = pd.DataFrame(iris.data, columns=iris.feature_names)\n"
   ]
  },
  {
   "cell_type": "code",
   "execution_count": 4,
   "id": "422143eb",
   "metadata": {},
   "outputs": [],
   "source": [
    "from sklearn.preprocessing import StandardScaler\n",
    "\n",
    "scaler = StandardScaler()\n",
    "X_scaled = scaler.fit_transform(X)\n"
   ]
  },
  {
   "cell_type": "code",
   "execution_count": 5,
   "id": "dc08f27c",
   "metadata": {},
   "outputs": [
    {
     "data": {
      "text/plain": [
       "FactorAnalyzer(n_factors=2, rotation='varimax', rotation_kwargs={})"
      ]
     },
     "execution_count": 5,
     "metadata": {},
     "output_type": "execute_result"
    }
   ],
   "source": [
    "fa = FactorAnalyzer(n_factors=2, rotation='varimax')\n",
    "fa.fit(X_scaled)"
   ]
  },
  {
   "cell_type": "code",
   "execution_count": 6,
   "id": "ff2240ea",
   "metadata": {},
   "outputs": [
    {
     "name": "stdout",
     "output_type": "stream",
     "text": [
      "                          0         1\n",
      "sepal length (cm)  0.901205  0.017890\n",
      "sepal width (cm)  -0.150413  0.986195\n",
      "petal length (cm)  0.964153 -0.284619\n",
      "petal width (cm)   0.921401 -0.233245\n"
     ]
    }
   ],
   "source": [
    "# Printing the factor loadings\n",
    "print(pd.DataFrame(fa.loadings_, index=X.columns))"
   ]
  },
  {
   "cell_type": "code",
   "execution_count": 7,
   "id": "7223b162",
   "metadata": {},
   "outputs": [
    {
     "data": {
      "image/png": "[encoded data removed]",
      "text/plain": [
       "<Figure size 640x480 with 1 Axes>"
      ]
     },
     "metadata": {},
     "output_type": "display_data"
    }
   ],
   "source": [
    "# Plotting the data in the new 2-dimensional space\n",
    "plt.scatter(fa.transform(X_scaled)[:,0], fa.transform(X_scaled)[:,1],c='g')\n",
    "plt.xlabel('Factor 1')\n",
    "plt.ylabel('Factor 2')\n",
    "plt.title('Factor Analysis iris dataset')\n",
    "plt.show()"
   ]
  },
  {
   "cell_type": "code",
   "execution_count": 8,
   "id": "e2761cf2",
   "metadata": {},
   "outputs": [],
   "source": [
    "import warnings\n",
    "warnings.filterwarnings('ignore')"
   ]
  },
  {
   "cell_type": "code",
   "execution_count": 9,
   "id": "ee4a70bf",
   "metadata": {},
   "outputs": [],
   "source": [
    "from sklearn.datasets import load_iris\n",
    "from sklearn.cluster import KMeans\n",
    "import pandas as pd\n",
    "import numpy as np\n",
    "\n",
    "iris = load_iris()\n",
    "X = iris.data\n",
    "y = iris.target\n"
   ]
  },
  {
   "cell_type": "code",
   "execution_count": 10,
   "id": "76e56322",
   "metadata": {},
   "outputs": [],
   "source": [
    "from sklearn.preprocessing import StandardScaler\n",
    "\n",
    "scaler = StandardScaler()\n",
    "X_scaled = scaler.fit_transform(X)\n"
   ]
  },
  {
   "cell_type": "code",
   "execution_count": 11,
   "id": "3a87c9c0",
   "metadata": {},
   "outputs": [],
   "source": [
    "wcss=[]\n",
    "for k in range(1,11):\n",
    "    kmeans=KMeans(n_clusters=k,init='k-means++')\n",
    "    kmeans.fit(X_scaled)\n",
    "    wcss.append(kmeans.inertia_)"
   ]
  },
  {
   "cell_type": "code",
   "execution_count": 12,
   "id": "afbc51f5",
   "metadata": {},
   "outputs": [
    {
     "data": {
      "text/plain": [
       "3"
      ]
     },
     "execution_count": 12,
     "metadata": {},
     "output_type": "execute_result"
    }
   ],
   "source": [
    "from kneed import KneeLocator\n",
    "\n",
    "k1=KneeLocator(range(1,11),wcss,curve='convex',direction='decreasing')\n",
    "k1.elbow"
   ]
  },
  {
   "cell_type": "code",
   "execution_count": 13,
   "id": "75079b6d",
   "metadata": {},
   "outputs": [],
   "source": [
    "from sklearn.metrics import silhouette_score\n",
    "\n",
    "silhouette_coefficients=[]\n",
    "for k in range(2,11):\n",
    "    kmeans=KMeans(n_clusters=k,init=\"k-means++\")\n",
    "    kmeans.fit(X_scaled)\n",
    "    score=silhouette_score(X_scaled,kmeans.labels_)\n",
    "    silhouette_coefficients.append(score)"
   ]
  },
  {
   "cell_type": "code",
   "execution_count": 18,
   "id": "fd146a93",
   "metadata": {},
   "outputs": [
    {
     "data": {
      "text/plain": [
       "[0.5817500491982808,\n",
       " 0.4630420362927048,\n",
       " 0.38349896963394614,\n",
       " 0.34194697093163473,\n",
       " 0.32674451109112396,\n",
       " 0.3359128346505605,\n",
       " 0.3358210370017559,\n",
       " 0.3429446547158051,\n",
       " 0.353209524842123]"
      ]
     },
     "execution_count": 18,
     "metadata": {},
     "output_type": "execute_result"
    }
   ],
   "source": [
    "silhouette_coefficients"
   ]
  },
  {
   "cell_type": "code",
   "execution_count": null,
   "id": "56382b1c",
   "metadata": {},
   "outputs": [],
   "source": []
  },
  {
   "cell_type": "code",
   "execution_count": null,
   "id": "2e920ba3",
   "metadata": {},
   "outputs": [],
   "source": []
  },
  {
   "cell_type": "code",
   "execution_count": null,
   "id": "49271b6c",
   "metadata": {},
   "outputs": [],
   "source": []
  }
 ],
 "metadata": {
  "kernelspec": {
   "display_name": "Python 3 (ipykernel)",
   "language": "python",
   "name": "python3"
  },
  "language_info": {
   "codemirror_mode": {
    "name": "ipython",
    "version": 3
   },
   "file_extension": ".py",
   "mimetype": "text/x-python",
   "name": "python",
   "nbconvert_exporter": "python",
   "pygments_lexer": "ipython3",
   "version": "3.9.13"
  }
 },
 "nbformat": 4,
 "nbformat_minor": 5
}
