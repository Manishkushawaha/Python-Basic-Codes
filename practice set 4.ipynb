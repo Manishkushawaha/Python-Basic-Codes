{
 "cells": [
  {
   "cell_type": "markdown",
   "id": "ac03c680",
   "metadata": {},
   "source": [
    "Q1. Create a class called \"Person\" with properties for \"name\", \"age\", and \"gender\". Create an object of this \n",
    "class and print out its properties"
   ]
  },
  {
   "cell_type": "code",
   "execution_count": 1,
   "id": "1a129112",
   "metadata": {},
   "outputs": [
    {
     "name": "stdout",
     "output_type": "stream",
     "text": [
      "Name: John Doe\n",
      "Age: 35\n",
      "Gender: Male\n"
     ]
    }
   ],
   "source": [
    "class Person:\n",
    "    def __init__(self,name,age,gender):\n",
    "        \n",
    "        self.name = name\n",
    "        self.age = age\n",
    "        self.gender = gender\n",
    "\n",
    "person1 = Person(\"John Doe\", 35, \"Male\")\n",
    "\n",
    "print(\"Name:\", person1.name)\n",
    "print(\"Age:\", person1.age)\n",
    "print(\"Gender:\", person1.gender)"
   ]
  },
  {
   "cell_type": "markdown",
   "id": "a7e837bf",
   "metadata": {},
   "source": [
    "Q2. Write a Python class called \"Rectangle\" with attributes for \"width\" and \"height\". Implement methods \n",
    "to calculate the area and perimeter of the rectangle. Create an instance of this class and use it to print out \n",
    "the rectangle's area and perimeter."
   ]
  },
  {
   "cell_type": "code",
   "execution_count": 2,
   "id": "5cf14523",
   "metadata": {},
   "outputs": [
    {
     "name": "stdout",
     "output_type": "stream",
     "text": [
      "Area: 50\n",
      "Perimeter: 30\n"
     ]
    }
   ],
   "source": [
    "class Rectangle:\n",
    "    \n",
    "    def __init__(self,width,height):\n",
    "        \n",
    "        self.width = width\n",
    "        self.height = height\n",
    "        \n",
    "    def area(self):\n",
    "        return self.width*self.height\n",
    "    \n",
    "    \n",
    "    def perimeter(self):\n",
    "        return 2*(self.width + self.height)\n",
    "    \n",
    "    \n",
    "r = Rectangle(5, 10)\n",
    "\n",
    "print(\"Area:\", r.area())\n",
    "\n",
    "print(\"Perimeter:\", r.perimeter())    \n",
    "    "
   ]
  },
  {
   "cell_type": "code",
   "execution_count": 2,
   "id": "c2066783",
   "metadata": {},
   "outputs": [
    {
     "data": {
      "text/plain": [
       "5000"
      ]
     },
     "execution_count": 2,
     "metadata": {},
     "output_type": "execute_result"
    }
   ],
   "source": [
    "class bank_account:\n",
    "    def __init__(self,balance):\n",
    "        self.__balance=balance\n",
    "        \n",
    "    def deposit(self,amount):\n",
    "        self.__balance =self.__balance + amount\n",
    "        \n",
    "    def withdraw(self,amount):\n",
    "        if self.__balance >= amount:\n",
    "            self.__balance = self.__balance - amount\n",
    "            return True\n",
    "        else:\n",
    "            return False\n",
    "    \n",
    "    def get_balance(self):\n",
    "        return self.__balance\n",
    "manish = bank_account(5000)\n",
    "manish.get_balance()"
   ]
  },
  {
   "cell_type": "markdown",
   "id": "ef4185f8",
   "metadata": {},
   "source": [
    "Q3. Write a Python class called \"BankAccount\" with attributes for \"balance\" and \"interest_rate\". Implement methods to deposit and withdraw money from the account, as well as to calculate the interest \n",
    "earned on the balance based on the interest rate. Create an instance of this class and use it to test out the implemented methods for deposit, withdrawal, and interest calculation."
   ]
  },
  {
   "cell_type": "code",
   "execution_count": 5,
   "id": "12c5e571",
   "metadata": {},
   "outputs": [],
   "source": [
    "class BankAccount:\n",
    "    \n",
    "    def __init__(self,balance,interest_rate):\n",
    "        \n",
    "        self.balance = balance\n",
    "        self.interest_rate = interest_rate\n",
    "        \n",
    "    def deposit(self,amount):\n",
    "        self.balance = self.balance + amount\n",
    "        \n",
    "    def withdraw(self,amount):\n",
    "        if amount > self.balance:\n",
    "              print(\"Insufficient balance.\")\n",
    "                \n",
    "        else:\n",
    "            self.balance = self.balance - amount\n",
    "            \n",
    "        \n",
    "    def cal_interest(self):\n",
    "        return self.balance * self.interest_rate"
   ]
  },
  {
   "cell_type": "code",
   "execution_count": 6,
   "id": "b9377474",
   "metadata": {},
   "outputs": [],
   "source": [
    "my_account = BankAccount(1000, 0.01)"
   ]
  },
  {
   "cell_type": "code",
   "execution_count": 7,
   "id": "0e1b6320",
   "metadata": {},
   "outputs": [],
   "source": [
    "my_account.deposit(500)"
   ]
  },
  {
   "cell_type": "code",
   "execution_count": 8,
   "id": "be762545",
   "metadata": {},
   "outputs": [],
   "source": [
    "my_account.withdraw(300)"
   ]
  },
  {
   "cell_type": "code",
   "execution_count": 10,
   "id": "351149bf",
   "metadata": {},
   "outputs": [],
   "source": [
    "interest_earned = my_account.cal_interest()"
   ]
  },
  {
   "cell_type": "code",
   "execution_count": 11,
   "id": "5c33a361",
   "metadata": {},
   "outputs": [
    {
     "name": "stdout",
     "output_type": "stream",
     "text": [
      "Current balance: 1200\n",
      "Interest earned: 12.0\n"
     ]
    }
   ],
   "source": [
    "print(\"Current balance:\", my_account.balance)\n",
    "print(\"Interest earned:\", interest_earned)"
   ]
  },
  {
   "cell_type": "markdown",
   "id": "1f09934a",
   "metadata": {},
   "source": [
    "Q4. Write a Python class called \"Animal\" with attributes for \"name\" and \"species\". Create a subclass of \"Animal\" called \"Dog\" with additional attributes for \"breed\" and \"owner\". Implement both classes with appropriate methods and constructors to initialise their properties. Create instances of both classes and use them to print out the various properties of the animals and dogs, such as their names, species, breeds, and owners."
   ]
  },
  {
   "cell_type": "code",
   "execution_count": 7,
   "id": "24f0e895",
   "metadata": {},
   "outputs": [
    {
     "name": "stdout",
     "output_type": "stream",
     "text": [
      "Animal name: Tiger\n",
      "Animal Species: Feline\n",
      "Dog name: Max\n",
      "Dog species: Canine\n",
      "Dog breed: Labrador Retriever\n",
      "Dog owner: John\n"
     ]
    }
   ],
   "source": [
    "class Animal:\n",
    "    \n",
    "    def __init__(self,name,species):\n",
    "        self.name = name\n",
    "        self.species = species\n",
    "        \n",
    "class Dog(Animal):\n",
    "    \n",
    "    def __init__(self, name, species, breed, owner):\n",
    "        super().__init__(name,species)\n",
    "        self.breed = breed\n",
    "        self.owner = owner\n",
    "\n",
    "Animal1 = Animal('Tiger',\"Feline\")\n",
    "\n",
    "dog1 = Dog(\"Max\", \"Canine\", \"Labrador Retriever\", \"John\")\n",
    "\n",
    "print(\"Animal name:\",Animal1.name)\n",
    "print(\"Animal Species:\",Animal1.species)\n",
    "\n",
    "print(\"Dog name:\", dog1.name)\n",
    "print(\"Dog species:\", dog1.species)\n",
    "print(\"Dog breed:\", dog1.breed)\n",
    "print(\"Dog owner:\", dog1.owner)"
   ]
  },
  {
   "cell_type": "markdown",
   "id": "335d1b6e",
   "metadata": {},
   "source": [
    "Q5.Create a class called \"Car\" with properties for \"make\", \"model\", and \"year\". Create a subclass of \"Car\" called \"ElectricCar\" with additional properties for \"battery_size\" and \"range\". Create objects of both classes and print out their properties."
   ]
  },
  {
   "cell_type": "code",
   "execution_count": 13,
   "id": "6e5ea76c",
   "metadata": {},
   "outputs": [
    {
     "name": "stdout",
     "output_type": "stream",
     "text": [
      "Car make: Tasla\n",
      "Car model: camry\n",
      "Car year: 2019\n"
     ]
    }
   ],
   "source": [
    "class Car:\n",
    "    \n",
    "    def __init__(self,make,model,year):\n",
    "        \n",
    "        self.make = make\n",
    "        self.model = model\n",
    "        self.year = year\n",
    "        \n",
    "class ElectricCar(Car):\n",
    "    \n",
    "    def __init__(self,make, model, year,battery_size,range):\n",
    "        \n",
    "        super().__init__(make,model,year)\n",
    "        self.battery_size=battery_size\n",
    "        self.range = range\n",
    "        \n",
    "car1 = Car(\"Tasla\",\"camry\",2019)\n",
    "\n",
    "electric_car1 = ElectricCar(\"Tesla\", \"Model 3\", 2021, 75, 263)\n",
    "\n",
    "print(\"Car make:\", car1.make)\n",
    "print(\"Car model:\", car1.model)\n",
    "print(\"Car year:\", car1.year)\n"
   ]
  },
  {
   "cell_type": "code",
   "execution_count": 14,
   "id": "fe66bd1c",
   "metadata": {},
   "outputs": [
    {
     "name": "stdout",
     "output_type": "stream",
     "text": [
      "Electric car make: Tesla\n",
      "Electric car model: Model 3\n",
      "Electric car year: 2021\n",
      "Electric car battery size: 75\n",
      "Electric car range: 263\n"
     ]
    }
   ],
   "source": [
    "print(\"Electric car make:\", electric_car1.make)\n",
    "print(\"Electric car model:\", electric_car1.model)\n",
    "print(\"Electric car year:\", electric_car1.year)\n",
    "print(\"Electric car battery size:\", electric_car1.battery_size)\n",
    "print(\"Electric car range:\", electric_car1.range)"
   ]
  },
  {
   "cell_type": "markdown",
   "id": "ea0f44d9",
   "metadata": {},
   "source": [
    "Q6.Create a class called \"Student\" with properties for \"name\" and \"id\". Create a subclass of \"Student\" called \"GraduateStudent\" with additional properties for \"advisor\" and \"research_area\". Create objects of both classes and print out their properties."
   ]
  },
  {
   "cell_type": "code",
   "execution_count": 19,
   "id": "9cab7f83",
   "metadata": {},
   "outputs": [
    {
     "name": "stdout",
     "output_type": "stream",
     "text": [
      "Student name: John Doe\n",
      "Student id: 12345\n"
     ]
    }
   ],
   "source": [
    "class student:\n",
    "    \n",
    "    def __init__(self,name,id):\n",
    "        \n",
    "        self.name = name\n",
    "        self.id = id\n",
    "class GraduateStudent(student):\n",
    "    \n",
    "    def __init__(self,name,id,advisor,research_area):\n",
    "        \n",
    "        super().__init__(name,id)\n",
    "        self.advisor = advisor\n",
    "        self.research_area =research_area\n",
    "        \n",
    "\n",
    "student1 = student(\"John Doe\", 12345)\n",
    "\n",
    "\n",
    "grad_student1 = GraduateStudent(\"Jane Smith\", 67890, \"Dr. Johnson\", \"Computer Science\")\n",
    "\n",
    "\n",
    "print(\"Student name:\", student1.name)\n",
    "print(\"Student id:\", student1.id)\n"
   ]
  },
  {
   "cell_type": "code",
   "execution_count": 20,
   "id": "ee7b7c5a",
   "metadata": {},
   "outputs": [
    {
     "name": "stdout",
     "output_type": "stream",
     "text": [
      "Graduate student name: Jane Smith\n",
      "Graduate student id: 67890\n",
      "Graduate student advisor: Dr. Johnson\n",
      "Graduate student research area: Computer Science\n"
     ]
    }
   ],
   "source": [
    "\n",
    "print(\"Graduate student name:\", grad_student1.name)\n",
    "print(\"Graduate student id:\", grad_student1.id)\n",
    "print(\"Graduate student advisor:\", grad_student1.advisor)\n",
    "print(\"Graduate student research area:\", grad_student1.research_area)\n"
   ]
  },
  {
   "cell_type": "markdown",
   "id": "e6b05701",
   "metadata": {},
   "source": [
    "Q7. Create a class called \"Shape\" with methods to calculate the area and perimeter of the shape. Create subclasses of \"Shape\" for \"Rectangle\", \"Circle\", and \"Triangle\" with their own methods for calculating area and perimeter. Create objects of each class and print out their area and perimeter."
   ]
  },
  {
   "cell_type": "code",
   "execution_count": 2,
   "id": "29dba373",
   "metadata": {},
   "outputs": [
    {
     "name": "stdout",
     "output_type": "stream",
     "text": [
      "Rectangle area: 15\n",
      "Rectangle perimeter: 16\n"
     ]
    }
   ],
   "source": [
    "import math\n",
    "\n",
    "class shape:\n",
    "    \n",
    "    def area(self):\n",
    "        pass\n",
    "    \n",
    "    def perimeter(self):\n",
    "        pass\n",
    "    \n",
    "class Rectangle(shape):\n",
    "    def __init__(self,length,width):\n",
    "        self.length = length\n",
    "        self.width = width\n",
    "        \n",
    "    def area(self):\n",
    "        return self.length *self.width\n",
    "    def perimeter(self):\n",
    "        return 2* (self.length + self.width)\n",
    "    \n",
    "rect = Rectangle(5, 3)\n",
    "print(\"Rectangle area:\", rect.area())\n",
    "print(\"Rectangle perimeter:\", rect.perimeter())"
   ]
  },
  {
   "cell_type": "code",
   "execution_count": 3,
   "id": "17ea2bbf",
   "metadata": {},
   "outputs": [
    {
     "name": "stdout",
     "output_type": "stream",
     "text": [
      "Circle area: 16\n",
      "Circle perimeter: 25.132741228718345\n"
     ]
    }
   ],
   "source": [
    "class Circle(shape):\n",
    "    \n",
    "    def __init__(self,radius):\n",
    "        self.radius = radius\n",
    "        \n",
    "    def area(self):\n",
    "        return self.radius **2\n",
    "    \n",
    "    def perimeter(self):\n",
    "        return 2* math.pi *self.radius\n",
    "    \n",
    "circ = Circle(4)\n",
    "print(\"Circle area:\", circ.area())\n",
    "print(\"Circle perimeter:\", circ.perimeter())    "
   ]
  },
  {
   "cell_type": "code",
   "execution_count": 4,
   "id": "12cd8287",
   "metadata": {},
   "outputs": [],
   "source": [
    "class Triangle(shape):\n",
    "    \n",
    "    def __init__(self,base,height,side1,side2,side3):\n",
    "        \n",
    "        self.side1 = side1\n",
    "        self.side2 = side2        \n",
    "        self.side3 = side3\n",
    "        self.base  = base\n",
    "        self.height = height\n",
    "        \n",
    "    def area(self):\n",
    "        \n",
    "        return 0.5*self.base*self.height\n",
    "    \n",
    "    def perimeter(self):\n",
    "        \n",
    "        return self.side1 + self.side2 + self.side3"
   ]
  },
  {
   "cell_type": "code",
   "execution_count": 5,
   "id": "821ec48e",
   "metadata": {},
   "outputs": [
    {
     "name": "stdout",
     "output_type": "stream",
     "text": [
      "Area: 10.0\n",
      "Perimeter: 12\n"
     ]
    }
   ],
   "source": [
    "t = Triangle(5, 4, 3, 4, 5)\n",
    "print(\"Area:\", t.area())\n",
    "print(\"Perimeter:\", t.perimeter())"
   ]
  },
  {
   "cell_type": "markdown",
   "id": "737b12a4",
   "metadata": {},
   "source": [
    "Q8. Create a class called \"Employee\" with properties for \"name\", \"id\", and \"salary\". Add methods to give the employee a raise and to calculate their annual salary. Create objects of this class and test out the methods."
   ]
  },
  {
   "cell_type": "code",
   "execution_count": 7,
   "id": "22fbd93c",
   "metadata": {},
   "outputs": [
    {
     "name": "stdout",
     "output_type": "stream",
     "text": [
      "Initial Salary: 400000\n",
      "Updated Salary: 401000\n",
      "Annual Salary: 4812000\n"
     ]
    }
   ],
   "source": [
    "class Employee:\n",
    "    \n",
    "    def __init__(self,name,id,salary):\n",
    "        \n",
    "        self.name = name\n",
    "        self.id = id\n",
    "        self.salary = salary\n",
    "        \n",
    "    def give_raise(self,amount):\n",
    "        self.salary += amount\n",
    "        \n",
    "    def cal_annual_salary(self):\n",
    "        return 12*self.salary\n",
    "    \n",
    "\n",
    "employee = Employee(\"Manish\",20221,400000)\n",
    "\n",
    "print(\"Initial Salary:\", employee.salary)\n",
    "\n",
    "employee.give_raise(1000)\n",
    "print(\"Updated Salary:\", employee.salary)\n",
    "\n",
    "annual_salary = employee.cal_annual_salary()\n",
    "print(\"Annual Salary:\", annual_salary)"
   ]
  },
  {
   "cell_type": "markdown",
   "id": "36b9697f",
   "metadata": {},
   "source": [
    "Q9. Create a class called \"Book\" with properties for \"title\", \"author\", and \"publisher\". Create a subclass of \"Book\" called \"Ebook\" with additional properties for \"file_format\" and \"file_size\". Create objects of both classes and print out their properties."
   ]
  },
  {
   "cell_type": "code",
   "execution_count": 8,
   "id": "d0b3fd07",
   "metadata": {
    "scrolled": true
   },
   "outputs": [
    {
     "name": "stdout",
     "output_type": "stream",
     "text": [
      "Book properties:\n",
      "Title: The Alchemist\n",
      "Author: Paulo Coelho\n",
      "Publisher: HarperCollins\n"
     ]
    }
   ],
   "source": [
    "class Book:\n",
    "    def __init__(self, title, author, publisher):\n",
    "        self.title = title\n",
    "        self.author = author\n",
    "        self.publisher = publisher\n",
    "\n",
    "class Ebook(Book):\n",
    "    def __init__(self, title, author, publisher, file_format, file_size):\n",
    "        super().__init__(title, author, publisher)\n",
    "        self.file_format = file_format\n",
    "        self.file_size = file_size\n",
    "        \n",
    "book = Book(\"The Alchemist\", \"Paulo Coelho\", \"HarperCollins\")\n",
    "print(\"Book properties:\")\n",
    "print(\"Title:\", book.title)\n",
    "print(\"Author:\", book.author)\n",
    "print(\"Publisher:\", book.publisher)"
   ]
  },
  {
   "cell_type": "code",
   "execution_count": 9,
   "id": "07aea6a1",
   "metadata": {},
   "outputs": [
    {
     "name": "stdout",
     "output_type": "stream",
     "text": [
      "\n",
      "Ebook properties:\n",
      "Title: The Da Vinci Code\n",
      "Author: Dan Brown\n",
      "Publisher: Doubleday\n",
      "File format: PDF\n",
      "File size: 2.1 MB\n"
     ]
    }
   ],
   "source": [
    "ebook = Ebook(\"The Da Vinci Code\", \"Dan Brown\", \"Doubleday\", \"PDF\", \"2.1 MB\")\n",
    "\n",
    "print(\"\\nEbook properties:\")\n",
    "print(\"Title:\", ebook.title)\n",
    "print(\"Author:\", ebook.author)\n",
    "print(\"Publisher:\", ebook.publisher)\n",
    "print(\"File format:\", ebook.file_format)\n",
    "print(\"File size:\", ebook.file_size)"
   ]
  },
  {
   "cell_type": "markdown",
   "id": "6ab5c174",
   "metadata": {},
   "source": [
    "Q10. Create a class called \"Bank\" with properties for \"name\" and \"accounts\". Add methods to create new accounts, deposit and withdraw money from accounts, and to calculate the total balance of all accounts. Create an object of this class and test out the methods."
   ]
  },
  {
   "cell_type": "code",
   "execution_count": 8,
   "id": "3e527b10",
   "metadata": {},
   "outputs": [],
   "source": [
    "class Bank:\n",
    "    \n",
    "    def __init__(self,name):\n",
    "        self.name = name\n",
    "        self.account = {}\n",
    "        \n",
    "    def add_account(self,account_name,initial_balance):\n",
    "        self.account_name = account_name\n",
    "        self.initial_balance=initial_balance\n",
    "        self.account[self.account_name] = self.initial_balance   \n",
    "    \n",
    "    def deposit(self,amount,account_name):\n",
    "        self.account[account_name] += amount"
   ]
  },
  {
   "cell_type": "code",
   "execution_count": null,
   "id": "8ae4fcb9",
   "metadata": {},
   "outputs": [],
   "source": []
  },
  {
   "cell_type": "code",
   "execution_count": null,
   "id": "59af7745",
   "metadata": {},
   "outputs": [],
   "source": []
  },
  {
   "cell_type": "code",
   "execution_count": null,
   "id": "66bf9601",
   "metadata": {},
   "outputs": [],
   "source": []
  },
  {
   "cell_type": "code",
   "execution_count": 3,
   "id": "dbe96651",
   "metadata": {},
   "outputs": [],
   "source": [
    "Bank1 = Bank(\"ICICI\")"
   ]
  },
  {
   "cell_type": "code",
   "execution_count": 4,
   "id": "d8ca4969",
   "metadata": {
    "scrolled": true
   },
   "outputs": [
    {
     "data": {
      "text/plain": [
       "'ICICI'"
      ]
     },
     "execution_count": 4,
     "metadata": {},
     "output_type": "execute_result"
    }
   ],
   "source": [
    "Bank1.name"
   ]
  },
  {
   "cell_type": "code",
   "execution_count": 5,
   "id": "330e7cd4",
   "metadata": {},
   "outputs": [],
   "source": [
    "Bank1.add_account(\"Deep\",20)"
   ]
  },
  {
   "cell_type": "code",
   "execution_count": 6,
   "id": "d7d7c3eb",
   "metadata": {},
   "outputs": [
    {
     "data": {
      "text/plain": [
       "20"
      ]
     },
     "execution_count": 6,
     "metadata": {},
     "output_type": "execute_result"
    }
   ],
   "source": [
    "\n",
    "\n",
    "Bank1.initial_balance"
   ]
  },
  {
   "cell_type": "code",
   "execution_count": 7,
   "id": "dc170368",
   "metadata": {},
   "outputs": [],
   "source": [
    "Bank1.deposit(5000)"
   ]
  },
  {
   "cell_type": "code",
   "execution_count": null,
   "id": "5d5461c5",
   "metadata": {},
   "outputs": [],
   "source": []
  }
 ],
 "metadata": {
  "kernelspec": {
   "display_name": "Python 3 (ipykernel)",
   "language": "python",
   "name": "python3"
  },
  "language_info": {
   "codemirror_mode": {
    "name": "ipython",
    "version": 3
   },
   "file_extension": ".py",
   "mimetype": "text/x-python",
   "name": "python",
   "nbconvert_exporter": "python",
   "pygments_lexer": "ipython3",
   "version": "3.9.13"
  }
 },
 "nbformat": 4,
 "nbformat_minor": 5
}
