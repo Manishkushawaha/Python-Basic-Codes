{
 "cells": [
  {
   "cell_type": "markdown",
   "id": "bdfcdc35",
   "metadata": {},
   "source": [
    "Q1. Write a Python program that defines a function called \"add_numbers\" that takes two arguments (i.e., numbers) and returns their sum. Within the function, add the two numbers together and return the result using the return statement. Call the function with the values 5 and 6, and print out the returned result. This will result in the addition of 5 and 6, with the output of the program being the sum of these two numbers"
   ]
  },
  {
   "cell_type": "code",
   "execution_count": 2,
   "id": "68feac7d",
   "metadata": {},
   "outputs": [
    {
     "name": "stdout",
     "output_type": "stream",
     "text": [
      "11\n"
     ]
    }
   ],
   "source": [
    "def add_number(num1 , num2):\n",
    "    \n",
    "    sum = (num1 + num2)\n",
    "    \n",
    "    return sum\n",
    "\n",
    "result=add_number(5,6)\n",
    "\n",
    "print(result)"
   ]
  },
  {
   "cell_type": "markdown",
   "id": "8a2af0f2",
   "metadata": {},
   "source": [
    "Q2. Write a Python program that calculates the square root of a given number using a built-in function. Specifically, the program should take an integer or float input from the user, calculate its square root \n",
    "using the 'sqrt()' function from the 'math' module, and print out the result to the user. As an example, calculate the square root of the number 625 using this program, which should output the value of 25."
   ]
  },
  {
   "cell_type": "code",
   "execution_count": 3,
   "id": "36d9568f",
   "metadata": {},
   "outputs": [
    {
     "name": "stdout",
     "output_type": "stream",
     "text": [
      "enter the number625\n",
      "The square root of 625 is 25.0\n"
     ]
    }
   ],
   "source": [
    "import math\n",
    "\n",
    "num = int(input('enter the number'))\n",
    "\n",
    "result = math.sqrt(num)\n",
    "\n",
    "print(f\"The square root of {num} is {result}\")"
   ]
  },
  {
   "cell_type": "markdown",
   "id": "e311b64e",
   "metadata": {},
   "source": [
    "Q3.Write a program that prints all prime numbers between 0 to 50."
   ]
  },
  {
   "cell_type": "code",
   "execution_count": 5,
   "id": "f2511f9d",
   "metadata": {},
   "outputs": [
    {
     "name": "stdout",
     "output_type": "stream",
     "text": [
      "2\n",
      "3\n",
      "5\n",
      "7\n",
      "11\n",
      "13\n",
      "17\n",
      "19\n",
      "23\n",
      "29\n",
      "31\n",
      "37\n",
      "41\n",
      "43\n",
      "47\n"
     ]
    }
   ],
   "source": [
    "for i in range(0,51):\n",
    "    \n",
    "    if i > 1:\n",
    "        \n",
    "        for j in range(2,i):\n",
    "            \n",
    "            if (i % j) == 0:\n",
    "                \n",
    "                break\n",
    "                \n",
    "        else:\n",
    "            print(i)"
   ]
  },
  {
   "cell_type": "markdown",
   "id": "407e48d9",
   "metadata": {},
   "source": [
    "Q4. How can we swap the values of three variables (let's say a, b, and c) without using a fourth variable? For example, if we have a=5, b=8, and c=9, how can we obtain a=9, b=5, and c=8? The challenge is to perform this operation without using an additional variable to store any of the values during the swapping process"
   ]
  },
  {
   "cell_type": "code",
   "execution_count": 6,
   "id": "1f368dc1",
   "metadata": {},
   "outputs": [
    {
     "name": "stdout",
     "output_type": "stream",
     "text": [
      "a = 9\n",
      "b = 5\n",
      "c = 8\n"
     ]
    }
   ],
   "source": [
    "a = 5\n",
    "b = 8\n",
    "c = 9\n",
    "\n",
    "a,b,c = c , a ,b\n",
    "\n",
    "print(\"a =\", a)\n",
    "print(\"b =\", b)\n",
    "print(\"c =\", c)"
   ]
  },
  {
   "cell_type": "markdown",
   "id": "de6036e1",
   "metadata": {},
   "source": [
    "Q5. Can you write a program that determines the nature of a given number (in this case, 87) as being positive, negative, or zero? The program should be designed to take the number as input and perform the necessary calculations to determine if the number is positive (i.e., greater than zero), negative (i.e., less than zero), or zero (i.e., equal to zero). The output of the program should indicate which of these three categories the given number falls into"
   ]
  },
  {
   "cell_type": "code",
   "execution_count": 7,
   "id": "2f2afa81",
   "metadata": {},
   "outputs": [
    {
     "name": "stdout",
     "output_type": "stream",
     "text": [
      "The number is positive.\n"
     ]
    }
   ],
   "source": [
    "num = 87\n",
    "\n",
    "if num > 0:\n",
    "    \n",
    "    print(\"The number is positive.\")\n",
    "    \n",
    "elif num < 0:\n",
    "    \n",
    "    print(\"The number is negative.\")\n",
    "    \n",
    "else:\n",
    "    \n",
    "    print(\"The number is zero.\")"
   ]
  },
  {
   "cell_type": "markdown",
   "id": "27ba3fb6",
   "metadata": {},
   "source": [
    "Q6. How can you create a program that determines whether a given number (in this case, 98) is even or odd? The program should be designed to take the number as input and perform the necessary calculations to determine whether it is divisible by two. If the number is divisible by two without leaving a remainder, it is an even number, and if there is a remainder, it is an odd number. The output of the program should indicate whether the given number is even or odd"
   ]
  },
  {
   "cell_type": "code",
   "execution_count": 8,
   "id": "f3bfe666",
   "metadata": {},
   "outputs": [
    {
     "name": "stdout",
     "output_type": "stream",
     "text": [
      "The number is even.\n"
     ]
    }
   ],
   "source": [
    "num = 98\n",
    "\n",
    "if num % 2 == 0:\n",
    "    print('The number is even.')\n",
    "    \n",
    "else:\n",
    "    print(\"The number is odd.\")"
   ]
  },
  {
   "cell_type": "markdown",
   "id": "2b012b01",
   "metadata": {},
   "source": [
    "Q7.Write a program for sum of digits.the digits are 76543 and the output should be  25."
   ]
  },
  {
   "cell_type": "code",
   "execution_count": 1,
   "id": "112b086b",
   "metadata": {},
   "outputs": [
    {
     "name": "stdout",
     "output_type": "stream",
     "text": [
      "The sum of digits is: 25\n"
     ]
    }
   ],
   "source": [
    "num = 76543\n",
    "\n",
    "sum = 0 \n",
    "\n",
    "while num > 0:\n",
    "    \n",
    "    digit = num % 10\n",
    "    \n",
    "    sum = sum + digit \n",
    "    \n",
    "    num //= 10\n",
    "    \n",
    "print(\"The sum of digits is:\", sum)    "
   ]
  },
  {
   "cell_type": "markdown",
   "id": "8689a3fc",
   "metadata": {},
   "source": [
    "Q8.Write a program for reversing the given number  5436 and the output  should be 6345."
   ]
  },
  {
   "cell_type": "code",
   "execution_count": 4,
   "id": "eaf5f43e",
   "metadata": {},
   "outputs": [
    {
     "name": "stdout",
     "output_type": "stream",
     "text": [
      "The sum of digits is: 6345\n"
     ]
    }
   ],
   "source": [
    "num = 5436\n",
    "\n",
    "reverse = 0 \n",
    "\n",
    "while num > 0:\n",
    "    \n",
    "    digit = num % 10\n",
    "    \n",
    "    reverse = (reverse * 10) + digit \n",
    "    \n",
    "    num //= 10\n",
    "    \n",
    "print(\"The sum of digits is:\", reverse)    "
   ]
  },
  {
   "cell_type": "markdown",
   "id": "ef844434",
   "metadata": {},
   "source": [
    "Q9.Write a program to check if a given number 371 is an Armstrong number?"
   ]
  },
  {
   "cell_type": "code",
   "execution_count": 6,
   "id": "6d0986a5",
   "metadata": {},
   "outputs": [
    {
     "name": "stdout",
     "output_type": "stream",
     "text": [
      "371 is an Armstrong number\n"
     ]
    }
   ],
   "source": [
    "num = 371\n",
    "\n",
    "order = len(str(num))\n",
    "sum = 0 \n",
    "\n",
    "for i in str(num):\n",
    "    \n",
    "    sum = sum + int(i)** order\n",
    "    \n",
    "if num == sum:\n",
    "      print(num, \"is an Armstrong number\")\n",
    "        \n",
    "else:\n",
    "    print(num, \"is not an Armstrong number\")\n",
    "    "
   ]
  },
  {
   "cell_type": "markdown",
   "id": "035d42a7",
   "metadata": {},
   "source": [
    "Q10.Write a program the given year is 1996, a leap year."
   ]
  },
  {
   "cell_type": "code",
   "execution_count": 7,
   "id": "591f6dba",
   "metadata": {},
   "outputs": [
    {
     "name": "stdout",
     "output_type": "stream",
     "text": [
      "1996 is leap year\n"
     ]
    }
   ],
   "source": [
    "year = 1996\n",
    "\n",
    "if (year % 4 == 0 and year % 100 != 0) or (year % 400 == 0):\n",
    "    \n",
    "    print(year , 'is leap year')\n",
    "    \n",
    "else:\n",
    "    print(year,\"is not a leap year\")"
   ]
  },
  {
   "cell_type": "code",
   "execution_count": null,
   "id": "c8e29375",
   "metadata": {},
   "outputs": [],
   "source": []
  }
 ],
 "metadata": {
  "kernelspec": {
   "display_name": "Python 3 (ipykernel)",
   "language": "python",
   "name": "python3"
  },
  "language_info": {
   "codemirror_mode": {
    "name": "ipython",
    "version": 3
   },
   "file_extension": ".py",
   "mimetype": "text/x-python",
   "name": "python",
   "nbconvert_exporter": "python",
   "pygments_lexer": "ipython3",
   "version": "3.9.13"
  }
 },
 "nbformat": 4,
 "nbformat_minor": 5
}
