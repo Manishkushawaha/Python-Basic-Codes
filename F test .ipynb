{
 "cells": [
  {
   "cell_type": "code",
   "execution_count": 1,
   "id": "e6364948",
   "metadata": {},
   "outputs": [],
   "source": [
    "#Evidence to say that the two population variances are not equal\n",
    "\n",
    "worker1=[18,19,21,25,27,28,41,45,51,55]\n",
    "worker2=[14,15,15,17,18,22,25,25,27,34]"
   ]
  },
  {
   "cell_type": "code",
   "execution_count": 2,
   "id": "afcd929c",
   "metadata": {},
   "outputs": [],
   "source": [
    "import numpy as np"
   ]
  },
  {
   "cell_type": "code",
   "execution_count": 3,
   "id": "2f84a605",
   "metadata": {},
   "outputs": [],
   "source": [
    "f_test = np.var(worker1)/np.var(worker2)"
   ]
  },
  {
   "cell_type": "code",
   "execution_count": 4,
   "id": "6d5ec656",
   "metadata": {},
   "outputs": [
    {
     "data": {
      "text/plain": [
       "4.447340980187695"
      ]
     },
     "execution_count": 4,
     "metadata": {},
     "output_type": "execute_result"
    }
   ],
   "source": [
    "f_test"
   ]
  },
  {
   "cell_type": "code",
   "execution_count": 6,
   "id": "b1ef8129",
   "metadata": {},
   "outputs": [],
   "source": [
    "# degree of freedom \n",
    "\n",
    "df1 = len(worker1)-1\n",
    "df2 = len(worker2)-1\n",
    "signifance_value = 0.05"
   ]
  },
  {
   "cell_type": "code",
   "execution_count": 7,
   "id": "5cae4001",
   "metadata": {},
   "outputs": [],
   "source": [
    "import scipy.stats as stat"
   ]
  },
  {
   "cell_type": "code",
   "execution_count": 9,
   "id": "587d3aba",
   "metadata": {},
   "outputs": [],
   "source": [
    "critical_value = stat.f.ppf(q = 1-signifance_value , dfn = df1 ,dfd = df2)"
   ]
  },
  {
   "cell_type": "code",
   "execution_count": 11,
   "id": "69597a2a",
   "metadata": {},
   "outputs": [
    {
     "data": {
      "text/plain": [
       "3.178893104458269"
      ]
     },
     "execution_count": 11,
     "metadata": {},
     "output_type": "execute_result"
    }
   ],
   "source": [
    "critical_value"
   ]
  },
  {
   "cell_type": "code",
   "execution_count": 10,
   "id": "9a3e67d5",
   "metadata": {},
   "outputs": [
    {
     "name": "stdout",
     "output_type": "stream",
     "text": [
      "Reject the Null Hypothesis\n"
     ]
    }
   ],
   "source": [
    "if f_test>critical_value:\n",
    "    print(\"Reject the Null Hypothesis\")\n",
    "else:\n",
    "    print(\"We fail to Reject the Null Hypothesis\")"
   ]
  },
  {
   "cell_type": "markdown",
   "id": "3325001b",
   "metadata": {},
   "source": [
    "\"\"Problem 1: A company is testing two different brands of batteries to see if there is a significant difference in their lifetimes. They randomly select 25 batteries of each brand and record their lifetimes in hours. The company wants to use an F-test to compare the variances of the two samples.\"\""
   ]
  },
  {
   "cell_type": "code",
   "execution_count": 4,
   "id": "7d1abfbe",
   "metadata": {},
   "outputs": [
    {
     "name": "stdout",
     "output_type": "stream",
     "text": [
      "F-statistic: 0.6435707130761914\n",
      "critical_value: 1.983759568489613\n",
      "We fail to Reject the Null Hypothesis\n"
     ]
    }
   ],
   "source": [
    "import numpy as np \n",
    "import scipy.stats as stats\n",
    "\n",
    "brand1 = np.random.normal(loc=10, scale=2, size=25)\n",
    "brand2 = np.random.normal(loc=12, scale=2.5, size=25)\n",
    "\n",
    "f_test = np.var(brand1)/np.var(brand2)\n",
    "\n",
    "df1 = len(brand1)-1\n",
    "df2 = len(brand2)-1\n",
    "signifance_value = 0.05\n",
    "\n",
    "critical_value = stats.f.ppf(q = 1-signifance_value , dfn = df1 ,dfd = df2)\n",
    "\n",
    "print(\"F-statistic:\", f_test)\n",
    "print(\"critical_value:\", critical_value)\n",
    "\n",
    "if f_test>critical_value:\n",
    "    print(\"Reject the Null Hypothesis\")\n",
    "else:\n",
    "    print(\"We fail to Reject the Null Hypothesis\")"
   ]
  },
  {
   "cell_type": "code",
   "execution_count": 5,
   "id": "56664612",
   "metadata": {},
   "outputs": [
    {
     "name": "stdout",
     "output_type": "stream",
     "text": [
      "F-statistic: 1.4708410067526094\n",
      "critical_value: 1.8608114354760754\n",
      "We fail to Reject the Null Hypothesis\n"
     ]
    }
   ],
   "source": [
    "import numpy as np \n",
    "import scipy.stats as stats\n",
    "\n",
    "# Heights of 30 men from City A\n",
    "a = [72, 71, 69, 70, 68, 72, 74, 70, 72, 69, 71, 73, 71, 73, 70, 68, 71, 72, 70, 71, 72, 73, 70, 68, 69, 70, 73, 71, 72, 73]\n",
    "\n",
    "# Heights of 30 men from City B\n",
    "b = [73, 70, 71, 72, 69, 72, 73, 72, 70, 71, 71, 73, 72, 74, 73, 71, 70, 69, 72, 71, 70, 72, 73, 71, 70, 71, 69, 73, 70, 71]\n",
    "\n",
    "\n",
    "f_test = np.var(a)/np.var(b)\n",
    "\n",
    "df1 = len(a)-1\n",
    "df2 = len(b)-1\n",
    "signifance_value = 0.05\n",
    "\n",
    "critical_value = stats.f.ppf(q = 1-signifance_value , dfn = df1 ,dfd = df2)\n",
    "\n",
    "print(\"F-statistic:\", f_test)\n",
    "print(\"critical_value:\", critical_value)\n",
    "\n",
    "if f_test>critical_value:\n",
    "    print(\"Reject the Null Hypothesis\")\n",
    "else:\n",
    "    print(\"We fail to Reject the Null Hypothesis\")"
   ]
  },
  {
   "cell_type": "code",
   "execution_count": null,
   "id": "a927dc1d",
   "metadata": {},
   "outputs": [],
   "source": []
  },
  {
   "cell_type": "code",
   "execution_count": null,
   "id": "dec02f2a",
   "metadata": {},
   "outputs": [],
   "source": []
  }
 ],
 "metadata": {
  "kernelspec": {
   "display_name": "Python 3 (ipykernel)",
   "language": "python",
   "name": "python3"
  },
  "language_info": {
   "codemirror_mode": {
    "name": "ipython",
    "version": 3
   },
   "file_extension": ".py",
   "mimetype": "text/x-python",
   "name": "python",
   "nbconvert_exporter": "python",
   "pygments_lexer": "ipython3",
   "version": "3.9.13"
  }
 },
 "nbformat": 4,
 "nbformat_minor": 5
}
