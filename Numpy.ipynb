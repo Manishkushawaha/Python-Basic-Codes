{
 "cells": [
  {
   "cell_type": "markdown",
   "id": "be95cc40",
   "metadata": {},
   "source": [
    "# Numpy"
   ]
  },
  {
   "cell_type": "code",
   "execution_count": 1,
   "id": "dfd9a173",
   "metadata": {},
   "outputs": [],
   "source": [
    "import numpy as np"
   ]
  },
  {
   "cell_type": "code",
   "execution_count": 2,
   "id": "fc9dd902",
   "metadata": {},
   "outputs": [
    {
     "data": {
      "text/plain": [
       "array([1, 2, 3, 4])"
      ]
     },
     "execution_count": 2,
     "metadata": {},
     "output_type": "execute_result"
    }
   ],
   "source": [
    "one_d_array=np.array([1,2,3,4])\n",
    "one_d_array"
   ]
  },
  {
   "cell_type": "code",
   "execution_count": 3,
   "id": "ff4437e6",
   "metadata": {},
   "outputs": [
    {
     "data": {
      "text/plain": [
       "array([[1, 2, 3, 4]])"
      ]
     },
     "execution_count": 3,
     "metadata": {},
     "output_type": "execute_result"
    }
   ],
   "source": [
    "two_d_array=np.array([[1,2,3,4]])\n",
    "two_d_array"
   ]
  },
  {
   "cell_type": "code",
   "execution_count": 4,
   "id": "f8f362a9",
   "metadata": {},
   "outputs": [
    {
     "data": {
      "text/plain": [
       "numpy.ndarray"
      ]
     },
     "execution_count": 4,
     "metadata": {},
     "output_type": "execute_result"
    }
   ],
   "source": [
    "type(two_d_array)"
   ]
  },
  {
   "cell_type": "code",
   "execution_count": 5,
   "id": "dd66b867",
   "metadata": {},
   "outputs": [
    {
     "data": {
      "text/plain": [
       "2"
      ]
     },
     "execution_count": 5,
     "metadata": {},
     "output_type": "execute_result"
    }
   ],
   "source": [
    "two_d_array.ndim"
   ]
  },
  {
   "cell_type": "code",
   "execution_count": 6,
   "id": "fff172c1",
   "metadata": {},
   "outputs": [
    {
     "data": {
      "text/plain": [
       "4"
      ]
     },
     "execution_count": 6,
     "metadata": {},
     "output_type": "execute_result"
    }
   ],
   "source": [
    "two_d_array.size"
   ]
  },
  {
   "cell_type": "code",
   "execution_count": 7,
   "id": "bbc0cbb7",
   "metadata": {},
   "outputs": [
    {
     "data": {
      "text/plain": [
       "(1, 4)"
      ]
     },
     "execution_count": 7,
     "metadata": {},
     "output_type": "execute_result"
    }
   ],
   "source": [
    "two_d_array.shape"
   ]
  },
  {
   "cell_type": "code",
   "execution_count": 8,
   "id": "9b6d3fe1",
   "metadata": {},
   "outputs": [
    {
     "data": {
      "text/plain": [
       "dtype('int32')"
      ]
     },
     "execution_count": 8,
     "metadata": {},
     "output_type": "execute_result"
    }
   ],
   "source": [
    "two_d_array.dtype"
   ]
  },
  {
   "cell_type": "code",
   "execution_count": 9,
   "id": "ccd97a69",
   "metadata": {},
   "outputs": [
    {
     "data": {
      "text/plain": [
       "array([[1, 1, 1, 1],\n",
       "       [1, 1, 1, 1],\n",
       "       [1, 1, 1, 1],\n",
       "       [1, 1, 1, 1]])"
      ]
     },
     "execution_count": 9,
     "metadata": {},
     "output_type": "execute_result"
    }
   ],
   "source": [
    "np.ones(shape=(4,4),dtype=int,order=\"c\")"
   ]
  },
  {
   "cell_type": "code",
   "execution_count": 10,
   "id": "07b6e683",
   "metadata": {},
   "outputs": [
    {
     "data": {
      "text/plain": [
       "array([[0, 0, 0, 0],\n",
       "       [0, 0, 0, 0],\n",
       "       [0, 0, 0, 0],\n",
       "       [0, 0, 0, 0]])"
      ]
     },
     "execution_count": 10,
     "metadata": {},
     "output_type": "execute_result"
    }
   ],
   "source": [
    "np.zeros(shape=(4,4),dtype=int,order=\"c\")"
   ]
  },
  {
   "cell_type": "code",
   "execution_count": 11,
   "id": "609dc43a",
   "metadata": {},
   "outputs": [
    {
     "data": {
      "text/plain": [
       "array([[4128860, 6029375, 3801155, 5570652],\n",
       "       [6619251, 7536754, 4456540, 4980805],\n",
       "       [6029388, 7340097, 4456560, 7602273],\n",
       "       [6029409, 7274572, 6357091,     108]])"
      ]
     },
     "execution_count": 11,
     "metadata": {},
     "output_type": "execute_result"
    }
   ],
   "source": [
    "np.empty(shape=(4,4),dtype=int,order=\"c\")"
   ]
  },
  {
   "cell_type": "code",
   "execution_count": 12,
   "id": "297419ed",
   "metadata": {},
   "outputs": [
    {
     "data": {
      "text/plain": [
       "array([ 1,  2,  3,  4,  5,  6,  7,  8,  9, 10, 11, 12])"
      ]
     },
     "execution_count": 12,
     "metadata": {},
     "output_type": "execute_result"
    }
   ],
   "source": [
    "np.arange(1,13)"
   ]
  },
  {
   "cell_type": "code",
   "execution_count": 13,
   "id": "3cced34c",
   "metadata": {},
   "outputs": [
    {
     "data": {
      "text/plain": [
       "array([ 1.  ,  1.52,  2.04,  2.56,  3.08,  3.6 ,  4.12,  4.64,  5.16,\n",
       "        5.68,  6.2 ,  6.72,  7.24,  7.76,  8.28,  8.8 ,  9.32,  9.84,\n",
       "       10.36, 10.88, 11.4 , 11.92, 12.44, 12.96, 13.48])"
      ]
     },
     "execution_count": 13,
     "metadata": {},
     "output_type": "execute_result"
    }
   ],
   "source": [
    "np.linspace(start=1,stop=14,num=25,endpoint=False,retstep=False)"
   ]
  },
  {
   "cell_type": "code",
   "execution_count": 14,
   "id": "26e17637",
   "metadata": {},
   "outputs": [
    {
     "data": {
      "text/plain": [
       "array([ 1.        , 10.66666667, 20.33333333, 30.        ])"
      ]
     },
     "execution_count": 14,
     "metadata": {},
     "output_type": "execute_result"
    }
   ],
   "source": [
    "np.linspace(1,30,4)"
   ]
  },
  {
   "cell_type": "code",
   "execution_count": 15,
   "id": "5c6b459e",
   "metadata": {},
   "outputs": [
    {
     "data": {
      "text/plain": [
       "array([[ 1,  2,  3],\n",
       "       [ 4,  5,  6],\n",
       "       [ 7,  8,  9],\n",
       "       [10, 11, 12]])"
      ]
     },
     "execution_count": 15,
     "metadata": {},
     "output_type": "execute_result"
    }
   ],
   "source": [
    "arr=np.arange(1,13)\n",
    "arr_reshape =np.reshape(arr,(4,3))\n",
    "arr_reshape"
   ]
  },
  {
   "cell_type": "code",
   "execution_count": 16,
   "id": "a6478e66",
   "metadata": {},
   "outputs": [
    {
     "data": {
      "text/plain": [
       "array([ 1,  2,  3,  4,  5,  6,  7,  8,  9, 10, 11, 12])"
      ]
     },
     "execution_count": 16,
     "metadata": {},
     "output_type": "execute_result"
    }
   ],
   "source": [
    "#To convert multidimensional array into 1D use ravel() or flatten() function.\n",
    "arr_reshape.ravel()"
   ]
  },
  {
   "cell_type": "code",
   "execution_count": 17,
   "id": "15e35b39",
   "metadata": {},
   "outputs": [
    {
     "data": {
      "text/plain": [
       "array([ 1,  2,  3,  4,  5,  6,  7,  8,  9, 10, 11, 12])"
      ]
     },
     "execution_count": 17,
     "metadata": {},
     "output_type": "execute_result"
    }
   ],
   "source": [
    "arr_reshape.flatten()"
   ]
  },
  {
   "cell_type": "code",
   "execution_count": 18,
   "id": "40c8e86e",
   "metadata": {},
   "outputs": [
    {
     "data": {
      "text/plain": [
       "array([[ 1,  4,  7, 10],\n",
       "       [ 2,  5,  8, 11],\n",
       "       [ 3,  6,  9, 12]])"
      ]
     },
     "execution_count": 18,
     "metadata": {},
     "output_type": "execute_result"
    }
   ],
   "source": [
    "arr_reshape.transpose()"
   ]
  },
  {
   "cell_type": "code",
   "execution_count": 19,
   "id": "d88fd5c6",
   "metadata": {},
   "outputs": [
    {
     "name": "stdout",
     "output_type": "stream",
     "text": [
      "arr_2d:\n",
      " [[0 1 1]\n",
      " [1 0 1]]\n",
      "size of arr_2d: 6\n"
     ]
    }
   ],
   "source": [
    "arr_2d=np.array([[0,1,1],[1,0,1]])\n",
    "print(\"arr_2d:\\n\",arr_2d)\n",
    "array_size=np.size(arr_2d)\n",
    "print(\"size of arr_2d:\",array_size)"
   ]
  },
  {
   "cell_type": "code",
   "execution_count": 20,
   "id": "6c5ced9f",
   "metadata": {},
   "outputs": [
    {
     "name": "stdout",
     "output_type": "stream",
     "text": [
      "No. of items in a column =  2\n",
      "No. of items in a row =  3\n"
     ]
    }
   ],
   "source": [
    "items_in_col = np.size(arr_2d, axis = 0) # give columns \n",
    "print(\"No. of items in a column = \", items_in_col )\n",
    " \n",
    "items_in_row = np.size(arr_2d, axis = 1)\n",
    "print(\"No. of items in a row = \", items_in_row )"
   ]
  },
  {
   "cell_type": "code",
   "execution_count": 21,
   "id": "6d3f9879",
   "metadata": {},
   "outputs": [
    {
     "name": "stdout",
     "output_type": "stream",
     "text": [
      "one dimentional numpy array : [1 2 2 2]\n"
     ]
    }
   ],
   "source": [
    "arr_1d=np.array([1,2,2,2])\n",
    "print(\"one dimentional numpy array :\",arr_1d)"
   ]
  },
  {
   "cell_type": "code",
   "execution_count": 22,
   "id": "c023cdf7",
   "metadata": {},
   "outputs": [
    {
     "name": "stdout",
     "output_type": "stream",
     "text": [
      "Shape of arr_1D =  (4,)\n"
     ]
    }
   ],
   "source": [
    "shape_of_arr_1d=np.shape(arr_1d)\n",
    "print(\"Shape of arr_1D = \", shape_of_arr_1d)"
   ]
  },
  {
   "cell_type": "code",
   "execution_count": 23,
   "id": "b53075b1",
   "metadata": {},
   "outputs": [
    {
     "name": "stdout",
     "output_type": "stream",
     "text": [
      "Two array : \n",
      " [[1 2 3]\n",
      " [1 2 3]\n",
      " [1 2 3]]\n",
      "Shape of arr_2D =  (3, 3)\n"
     ]
    }
   ],
   "source": [
    "arr_2D = np.array([[1, 2, 3], [1, 2, 3], [1, 2, 3]])\n",
    "print(\"Two array : \\n\", arr_2D) \n",
    " \n",
    "shape_of_arr_2D = np.shape(arr_2D)\n",
    "print(\"Shape of arr_2D = \", shape_of_arr_2D)"
   ]
  },
  {
   "cell_type": "code",
   "execution_count": 24,
   "id": "b44e90d4",
   "metadata": {},
   "outputs": [
    {
     "name": "stdout",
     "output_type": "stream",
     "text": [
      "Three dimensional NumPy Array : \n",
      " [[[1 2 3]\n",
      "  [1 2 3]\n",
      "  [1 2 3]]\n",
      "\n",
      " [[1 2 3]\n",
      "  [1 2 3]\n",
      "  [1 2 3]]\n",
      "\n",
      " [[1 2 3]\n",
      "  [1 2 3]\n",
      "  [1 2 3]]]\n",
      "Shape of arr_3D =  (3, 3, 3)\n"
     ]
    }
   ],
   "source": [
    "arr_3D = np.array([[[1, 2, 3], [1, 2, 3], [1, 2, 3]], \n",
    "                   [[1, 2, 3], [1, 2, 3], [1, 2, 3]],\n",
    "                   [[1, 2, 3], [1, 2, 3], [1, 2, 3]]])\n",
    "print(\"Three dimensional NumPy Array : \\n\", arr_3D)\n",
    " \n",
    "shape_of_arr_3D = np.shape(arr_3D) \n",
    "print(\"Shape of arr_3D = \", shape_of_arr_3D)"
   ]
  },
  {
   "cell_type": "code",
   "execution_count": 25,
   "id": "be5f7c0d",
   "metadata": {},
   "outputs": [
    {
     "data": {
      "text/plain": [
       "(5, 4)"
      ]
     },
     "execution_count": 25,
     "metadata": {},
     "output_type": "execute_result"
    }
   ],
   "source": [
    "student_info=np.array([[\"id\",\"name\",\"percentage\",\"pass or fail\"],\n",
    "                      [101,\"Ajay\",80,\"pass\"],\n",
    "                      [102,\"John\",75,\"pass\"],\n",
    "                      [103,\"Abraham\",33,\"fail\"],\n",
    "                      [104,\"Oprah\",52,\"pass\"]])\n",
    "np.shape(student_info)"
   ]
  },
  {
   "cell_type": "code",
   "execution_count": 26,
   "id": "38162462",
   "metadata": {},
   "outputs": [
    {
     "name": "stdout",
     "output_type": "stream",
     "text": [
      "[[1 2 3]\n",
      " [4 5 6]\n",
      " [7 8 9]]\n",
      "[[1 2 3]\n",
      " [4 5 6]\n",
      " [7 8 9]]\n"
     ]
    }
   ],
   "source": [
    "arr1 = np.arange(1,10).reshape(3,3)\n",
    "arr2 = np.arange(1,10).reshape(3,3)\n",
    "print(arr1)\n",
    "print(arr2)"
   ]
  },
  {
   "cell_type": "code",
   "execution_count": 27,
   "id": "a07a0a08",
   "metadata": {},
   "outputs": [
    {
     "data": {
      "text/plain": [
       "array([[ 2,  4,  6],\n",
       "       [ 8, 10, 12],\n",
       "       [14, 16, 18]])"
      ]
     },
     "execution_count": 27,
     "metadata": {},
     "output_type": "execute_result"
    }
   ],
   "source": [
    "arr1+arr2"
   ]
  },
  {
   "cell_type": "code",
   "execution_count": 28,
   "id": "ab08756a",
   "metadata": {},
   "outputs": [
    {
     "data": {
      "text/plain": [
       "array([[ 2,  4,  6],\n",
       "       [ 8, 10, 12],\n",
       "       [14, 16, 18]])"
      ]
     },
     "execution_count": 28,
     "metadata": {},
     "output_type": "execute_result"
    }
   ],
   "source": [
    "np.add(arr1,arr2)"
   ]
  },
  {
   "cell_type": "code",
   "execution_count": 29,
   "id": "ef01160e",
   "metadata": {},
   "outputs": [
    {
     "data": {
      "text/plain": [
       "array([[0, 0, 0],\n",
       "       [0, 0, 0],\n",
       "       [0, 0, 0]])"
      ]
     },
     "execution_count": 29,
     "metadata": {},
     "output_type": "execute_result"
    }
   ],
   "source": [
    "arr1-arr2"
   ]
  },
  {
   "cell_type": "code",
   "execution_count": 30,
   "id": "20503c9f",
   "metadata": {},
   "outputs": [
    {
     "data": {
      "text/plain": [
       "array([[0, 0, 0],\n",
       "       [0, 0, 0],\n",
       "       [0, 0, 0]])"
      ]
     },
     "execution_count": 30,
     "metadata": {},
     "output_type": "execute_result"
    }
   ],
   "source": [
    "np.subtract(arr1,arr2)"
   ]
  },
  {
   "cell_type": "code",
   "execution_count": 31,
   "id": "3640b65f",
   "metadata": {},
   "outputs": [
    {
     "data": {
      "text/plain": [
       "array([[ 1,  4,  9],\n",
       "       [16, 25, 36],\n",
       "       [49, 64, 81]])"
      ]
     },
     "execution_count": 31,
     "metadata": {},
     "output_type": "execute_result"
    }
   ],
   "source": [
    "arr1*arr2"
   ]
  },
  {
   "cell_type": "code",
   "execution_count": 32,
   "id": "615d32fa",
   "metadata": {},
   "outputs": [
    {
     "data": {
      "text/plain": [
       "array([[ 1,  4,  9],\n",
       "       [16, 25, 36],\n",
       "       [49, 64, 81]])"
      ]
     },
     "execution_count": 32,
     "metadata": {},
     "output_type": "execute_result"
    }
   ],
   "source": [
    "np.multiply(arr1,arr2)"
   ]
  },
  {
   "cell_type": "code",
   "execution_count": 33,
   "id": "622891d4",
   "metadata": {},
   "outputs": [
    {
     "data": {
      "text/plain": [
       "array([[1., 1., 1.],\n",
       "       [1., 1., 1.],\n",
       "       [1., 1., 1.]])"
      ]
     },
     "execution_count": 33,
     "metadata": {},
     "output_type": "execute_result"
    }
   ],
   "source": [
    "arr1/arr2"
   ]
  },
  {
   "cell_type": "code",
   "execution_count": 34,
   "id": "6fed19e0",
   "metadata": {},
   "outputs": [
    {
     "data": {
      "text/plain": [
       "array([[1., 1., 1.],\n",
       "       [1., 1., 1.],\n",
       "       [1., 1., 1.]])"
      ]
     },
     "execution_count": 34,
     "metadata": {},
     "output_type": "execute_result"
    }
   ],
   "source": [
    "np.divide(arr1,arr2)"
   ]
  },
  {
   "cell_type": "code",
   "execution_count": 35,
   "id": "15e83de6",
   "metadata": {},
   "outputs": [
    {
     "data": {
      "text/plain": [
       "array([[ 30,  36,  42],\n",
       "       [ 66,  81,  96],\n",
       "       [102, 126, 150]])"
      ]
     },
     "execution_count": 35,
     "metadata": {},
     "output_type": "execute_result"
    }
   ],
   "source": [
    "#matrix product of two numpy array\n",
    "arr1@arr2"
   ]
  },
  {
   "cell_type": "code",
   "execution_count": 36,
   "id": "877ce7b7",
   "metadata": {},
   "outputs": [
    {
     "data": {
      "text/plain": [
       "array([[ 30,  36,  42],\n",
       "       [ 66,  81,  96],\n",
       "       [102, 126, 150]])"
      ]
     },
     "execution_count": 36,
     "metadata": {},
     "output_type": "execute_result"
    }
   ],
   "source": [
    "arr1.dot(arr2)"
   ]
  },
  {
   "cell_type": "code",
   "execution_count": 37,
   "id": "d2e17663",
   "metadata": {},
   "outputs": [
    {
     "data": {
      "text/plain": [
       "9"
      ]
     },
     "execution_count": 37,
     "metadata": {},
     "output_type": "execute_result"
    }
   ],
   "source": [
    "#NumPy Mathematical Built-in functions\n",
    "arr1.max()"
   ]
  },
  {
   "cell_type": "code",
   "execution_count": 38,
   "id": "6edb0e40",
   "metadata": {},
   "outputs": [
    {
     "data": {
      "text/plain": [
       "array([1, 2, 3])"
      ]
     },
     "execution_count": 38,
     "metadata": {},
     "output_type": "execute_result"
    }
   ],
   "source": [
    "arr1.min(axis=0)# return max value from each column"
   ]
  },
  {
   "cell_type": "code",
   "execution_count": 39,
   "id": "48198318",
   "metadata": {},
   "outputs": [
    {
     "data": {
      "text/plain": [
       "array([1, 4, 7])"
      ]
     },
     "execution_count": 39,
     "metadata": {},
     "output_type": "execute_result"
    }
   ],
   "source": [
    "arr1.min(axis=1)# return max value from each row"
   ]
  },
  {
   "cell_type": "code",
   "execution_count": 40,
   "id": "874531d6",
   "metadata": {},
   "outputs": [
    {
     "data": {
      "text/plain": [
       "8"
      ]
     },
     "execution_count": 40,
     "metadata": {},
     "output_type": "execute_result"
    }
   ],
   "source": [
    "arr1.argmax()# return index of max value of an array"
   ]
  },
  {
   "cell_type": "code",
   "execution_count": 41,
   "id": "9ebee7c4",
   "metadata": {},
   "outputs": [
    {
     "data": {
      "text/plain": [
       "1"
      ]
     },
     "execution_count": 41,
     "metadata": {},
     "output_type": "execute_result"
    }
   ],
   "source": [
    "arr1.min()"
   ]
  },
  {
   "cell_type": "code",
   "execution_count": 42,
   "id": "55303aeb",
   "metadata": {},
   "outputs": [
    {
     "data": {
      "text/plain": [
       "array([1, 2, 3])"
      ]
     },
     "execution_count": 42,
     "metadata": {},
     "output_type": "execute_result"
    }
   ],
   "source": [
    "arr1.min(axis=0)"
   ]
  },
  {
   "cell_type": "code",
   "execution_count": 43,
   "id": "056ba572",
   "metadata": {},
   "outputs": [
    {
     "data": {
      "text/plain": [
       "0"
      ]
     },
     "execution_count": 43,
     "metadata": {},
     "output_type": "execute_result"
    }
   ],
   "source": [
    "arr1.argmin() # return index of min value of an array"
   ]
  },
  {
   "cell_type": "code",
   "execution_count": 44,
   "id": "5044e256",
   "metadata": {},
   "outputs": [
    {
     "data": {
      "text/plain": [
       "45"
      ]
     },
     "execution_count": 44,
     "metadata": {},
     "output_type": "execute_result"
    }
   ],
   "source": [
    "np.sum(arr1)"
   ]
  },
  {
   "cell_type": "code",
   "execution_count": 45,
   "id": "07e80f39",
   "metadata": {},
   "outputs": [
    {
     "data": {
      "text/plain": [
       "array([12, 15, 18])"
      ]
     },
     "execution_count": 45,
     "metadata": {},
     "output_type": "execute_result"
    }
   ],
   "source": [
    "np.sum(arr1, axis = 0) # return sum of each column"
   ]
  },
  {
   "cell_type": "code",
   "execution_count": 46,
   "id": "aa98bbb3",
   "metadata": {},
   "outputs": [
    {
     "data": {
      "text/plain": [
       "array([ 6, 15, 24])"
      ]
     },
     "execution_count": 46,
     "metadata": {},
     "output_type": "execute_result"
    }
   ],
   "source": [
    "np.sum(arr1, axis = 1) # return sum of each row"
   ]
  },
  {
   "cell_type": "code",
   "execution_count": 47,
   "id": "e9db374b",
   "metadata": {},
   "outputs": [
    {
     "data": {
      "text/plain": [
       "5.0"
      ]
     },
     "execution_count": 47,
     "metadata": {},
     "output_type": "execute_result"
    }
   ],
   "source": [
    "np.mean(arr1)"
   ]
  },
  {
   "cell_type": "code",
   "execution_count": 48,
   "id": "da7b9168",
   "metadata": {},
   "outputs": [
    {
     "data": {
      "text/plain": [
       "array([[1.        , 1.41421356, 1.73205081],\n",
       "       [2.        , 2.23606798, 2.44948974],\n",
       "       [2.64575131, 2.82842712, 3.        ]])"
      ]
     },
     "execution_count": 48,
     "metadata": {},
     "output_type": "execute_result"
    }
   ],
   "source": [
    "np.sqrt(arr1)"
   ]
  },
  {
   "cell_type": "code",
   "execution_count": 49,
   "id": "407d6b0f",
   "metadata": {},
   "outputs": [
    {
     "data": {
      "text/plain": [
       "2.581988897471611"
      ]
     },
     "execution_count": 49,
     "metadata": {},
     "output_type": "execute_result"
    }
   ],
   "source": [
    "np.std(arr1)"
   ]
  },
  {
   "cell_type": "code",
   "execution_count": 50,
   "id": "9cc813ff",
   "metadata": {},
   "outputs": [
    {
     "data": {
      "text/plain": [
       "array([[2.71828183e+00, 7.38905610e+00, 2.00855369e+01],\n",
       "       [5.45981500e+01, 1.48413159e+02, 4.03428793e+02],\n",
       "       [1.09663316e+03, 2.98095799e+03, 8.10308393e+03]])"
      ]
     },
     "execution_count": 50,
     "metadata": {},
     "output_type": "execute_result"
    }
   ],
   "source": [
    "np.exp(arr1)"
   ]
  },
  {
   "cell_type": "code",
   "execution_count": 51,
   "id": "e4ea0737",
   "metadata": {},
   "outputs": [
    {
     "data": {
      "text/plain": [
       "array([[0.        , 0.69314718, 1.09861229],\n",
       "       [1.38629436, 1.60943791, 1.79175947],\n",
       "       [1.94591015, 2.07944154, 2.19722458]])"
      ]
     },
     "execution_count": 51,
     "metadata": {},
     "output_type": "execute_result"
    }
   ],
   "source": [
    "np.log(arr1)"
   ]
  },
  {
   "cell_type": "code",
   "execution_count": 52,
   "id": "8b5c7593",
   "metadata": {},
   "outputs": [
    {
     "data": {
      "text/plain": [
       "array([[0.        , 0.30103   , 0.47712125],\n",
       "       [0.60205999, 0.69897   , 0.77815125],\n",
       "       [0.84509804, 0.90308999, 0.95424251]])"
      ]
     },
     "execution_count": 52,
     "metadata": {},
     "output_type": "execute_result"
    }
   ],
   "source": [
    "np.log10(arr1)"
   ]
  },
  {
   "cell_type": "code",
   "execution_count": 53,
   "id": "0b8fc237",
   "metadata": {},
   "outputs": [
    {
     "data": {
      "text/plain": [
       "0.8939966636005579"
      ]
     },
     "execution_count": 53,
     "metadata": {},
     "output_type": "execute_result"
    }
   ],
   "source": [
    "#NumPy Trigonometric Functions\n",
    "np.sin(90)"
   ]
  },
  {
   "cell_type": "code",
   "execution_count": 54,
   "id": "e71c9467",
   "metadata": {},
   "outputs": [
    {
     "data": {
      "text/plain": [
       "1.0"
      ]
     },
     "execution_count": 54,
     "metadata": {},
     "output_type": "execute_result"
    }
   ],
   "source": [
    "np.sin(90*np.pi/180)"
   ]
  },
  {
   "cell_type": "code",
   "execution_count": 55,
   "id": "f1bd1980",
   "metadata": {},
   "outputs": [
    {
     "data": {
      "text/plain": [
       "-0.4480736161291701"
      ]
     },
     "execution_count": 55,
     "metadata": {},
     "output_type": "execute_result"
    }
   ],
   "source": [
    "np.cos(90)"
   ]
  },
  {
   "cell_type": "code",
   "execution_count": 56,
   "id": "15879800",
   "metadata": {},
   "outputs": [
    {
     "data": {
      "text/plain": [
       "-1.0"
      ]
     },
     "execution_count": 56,
     "metadata": {},
     "output_type": "execute_result"
    }
   ],
   "source": [
    "np.cos(180*np.pi/180)"
   ]
  },
  {
   "cell_type": "code",
   "execution_count": 57,
   "id": "886399a2",
   "metadata": {},
   "outputs": [
    {
     "data": {
      "text/plain": [
       "0.320040389379563"
      ]
     },
     "execution_count": 57,
     "metadata": {},
     "output_type": "execute_result"
    }
   ],
   "source": [
    "np.tan(60)"
   ]
  },
  {
   "cell_type": "code",
   "execution_count": 58,
   "id": "e6957b43",
   "metadata": {},
   "outputs": [
    {
     "data": {
      "text/plain": [
       "1.7320508075688767"
      ]
     },
     "execution_count": 58,
     "metadata": {},
     "output_type": "execute_result"
    }
   ],
   "source": [
    "np.tan(60*np.pi/180)"
   ]
  },
  {
   "cell_type": "code",
   "execution_count": 59,
   "id": "ae09aefa",
   "metadata": {},
   "outputs": [
    {
     "data": {
      "image/png": "[encoded data removed]",
      "text/plain": [
       "<Figure size 640x480 with 1 Axes>"
      ]
     },
     "metadata": {},
     "output_type": "display_data"
    }
   ],
   "source": [
    "#Graphical Representation of Trigonometric sine Function\n",
    "import numpy as np\n",
    "import matplotlib.pyplot as plt\n",
    "x=np.arange(0,8*np.pi,0.1)\n",
    "y=np.sin(x)\n",
    "plt.plot(x,y)\n",
    "plt.title(\" Graphical Representation of sine function\")\n",
    "plt.xlabel(\"x axis \")\n",
    "plt.ylabel(\"y axis \")\n",
    "plt.show()"
   ]
  },
  {
   "cell_type": "code",
   "execution_count": 60,
   "id": "84309cd5",
   "metadata": {},
   "outputs": [
    {
     "data": {
      "image/png": "[encoded data removed]",
      "text/plain": [
       "<Figure size 640x480 with 1 Axes>"
      ]
     },
     "metadata": {},
     "output_type": "display_data"
    }
   ],
   "source": [
    "#Graphical Representation of Trigonometric cosine Function\n",
    "import numpy as np\n",
    "import matplotlib.pyplot as plt\n",
    "x=np.arange(0,10*np.pi,0.1)\n",
    "y=np.cos(x)\n",
    "plt.plot(x,y)\n",
    "plt.title(\" Graphical Representation of cosine function\")\n",
    "plt.xlabel(\"x axis \")\n",
    "plt.ylabel(\"y axis \")\n",
    "plt.show()"
   ]
  },
  {
   "cell_type": "code",
   "execution_count": 61,
   "id": "ec87f0ef",
   "metadata": {},
   "outputs": [
    {
     "data": {
      "image/png": "[encoded data removed]",
      "text/plain": [
       "<Figure size 640x480 with 1 Axes>"
      ]
     },
     "metadata": {},
     "output_type": "display_data"
    }
   ],
   "source": [
    "#Graphical Representation of Trigonometric tangent Function\n",
    "import numpy as np\n",
    "import matplotlib.pyplot as plt\n",
    "x=np.arange(0,3*np.pi,0.1)\n",
    "y=np.tan(x)\n",
    "plt.plot(x,y)\n",
    "plt.title(\" Graphical Representation of sine function\")\n",
    "plt.xlabel(\"x axis \")\n",
    "plt.ylabel(\"y axis \")\n",
    "plt.show()"
   ]
  },
  {
   "cell_type": "code",
   "execution_count": 62,
   "id": "df084333",
   "metadata": {},
   "outputs": [
    {
     "data": {
      "text/plain": [
       "array([1, 2, 3, 4, 5, 6, 7, 8, 9])"
      ]
     },
     "execution_count": 62,
     "metadata": {},
     "output_type": "execute_result"
    }
   ],
   "source": [
    "np.hstack(arr1)"
   ]
  },
  {
   "cell_type": "code",
   "execution_count": 63,
   "id": "b09f477d",
   "metadata": {},
   "outputs": [
    {
     "data": {
      "text/plain": [
       "array([[1, 2, 3],\n",
       "       [4, 5, 6],\n",
       "       [7, 8, 9]])"
      ]
     },
     "execution_count": 63,
     "metadata": {},
     "output_type": "execute_result"
    }
   ],
   "source": [
    "np.vstack(arr1)"
   ]
  },
  {
   "cell_type": "code",
   "execution_count": 64,
   "id": "cc6e3692",
   "metadata": {},
   "outputs": [],
   "source": [
    "import random"
   ]
  },
  {
   "cell_type": "code",
   "execution_count": 67,
   "id": "2f516ac7",
   "metadata": {},
   "outputs": [
    {
     "data": {
      "text/plain": [
       "array([0.74449462])"
      ]
     },
     "execution_count": 67,
     "metadata": {},
     "output_type": "execute_result"
    }
   ],
   "source": [
    "rd_num=np.random.random(1)\n",
    "rd_num"
   ]
  },
  {
   "cell_type": "code",
   "execution_count": 70,
   "id": "e6fc114d",
   "metadata": {},
   "outputs": [
    {
     "data": {
      "text/plain": [
       "array([[0.39127415, 0.62299372, 0.39567133],\n",
       "       [0.05837201, 0.77978925, 0.21730388],\n",
       "       [0.53255747, 0.10406434, 0.82743143]])"
      ]
     },
     "execution_count": 70,
     "metadata": {},
     "output_type": "execute_result"
    }
   ],
   "source": [
    "rd_2d_array=np.random.random((3,3))\n",
    "rd_2d_array"
   ]
  },
  {
   "cell_type": "code",
   "execution_count": 73,
   "id": "ede68faf",
   "metadata": {},
   "outputs": [
    {
     "name": "stdout",
     "output_type": "stream",
     "text": [
      "3\n",
      "[[2 2 1]\n",
      " [3 2 1]\n",
      " [3 1 1]]\n",
      "[[[1 3 3 2]\n",
      "  [3 3 3 2]\n",
      "  [3 1 2 3]\n",
      "  [2 1 3 2]]\n",
      "\n",
      " [[2 2 1 3]\n",
      "  [2 3 2 1]\n",
      "  [2 2 2 2]\n",
      "  [2 3 1 2]]]\n"
     ]
    }
   ],
   "source": [
    "rd_no = np.random.randint(1,4)\n",
    "rd_2D_arr = np.random.randint(1,4, (3,3))\n",
    "rd_3D_arr = np.random.randint(1,4, (2,4,4))\n",
    " \n",
    "print(rd_no)\n",
    "\n",
    "print(rd_2D_arr)\n",
    "\n",
    "print(rd_3D_arr)"
   ]
  },
  {
   "cell_type": "code",
   "execution_count": 77,
   "id": "681d1ec6",
   "metadata": {},
   "outputs": [],
   "source": [
    "np.random.seed(10)"
   ]
  },
  {
   "cell_type": "code",
   "execution_count": 79,
   "id": "972cca23",
   "metadata": {},
   "outputs": [
    {
     "name": "stdout",
     "output_type": "stream",
     "text": [
      "[[[2 2 1 1]\n",
      "  [2 1 2 2]\n",
      "  [1 2 2 3]\n",
      "  [1 2 1 3]]\n",
      "\n",
      " [[1 3 1 1]\n",
      "  [1 3 1 3]\n",
      "  [3 2 1 1]\n",
      "  [3 2 3 2]]]\n"
     ]
    }
   ],
   "source": [
    "np.random.seed(10)\n",
    "rd_3D_arr = np.random.randint(1,4, (2,4,4))\n",
    "print(rd_3D_arr)"
   ]
  },
  {
   "cell_type": "code",
   "execution_count": 80,
   "id": "3e9cb6ba",
   "metadata": {},
   "outputs": [
    {
     "name": "stdout",
     "output_type": "stream",
     "text": [
      "[[[2 2 1 1]\n",
      "  [2 1 2 2]\n",
      "  [1 2 2 3]\n",
      "  [1 2 1 3]]\n",
      "\n",
      " [[1 3 1 1]\n",
      "  [1 3 1 3]\n",
      "  [3 2 1 1]\n",
      "  [3 2 3 2]]]\n"
     ]
    }
   ],
   "source": [
    "np.random.seed(10)\n",
    "rd_3D_arr = np.random.randint(1,4, (2,4,4))\n",
    "print(rd_3D_arr)"
   ]
  },
  {
   "cell_type": "code",
   "execution_count": 81,
   "id": "01aff52d",
   "metadata": {},
   "outputs": [
    {
     "name": "stdout",
     "output_type": "stream",
     "text": [
      "[[0.13145815 0.41366737 0.77872881]\n",
      " [0.58390137 0.18263144 0.82608225]\n",
      " [0.10540183 0.28357668 0.06556327]]\n"
     ]
    }
   ],
   "source": [
    "arr_2D = np.random.rand(3,3) # return  3 x 3 matrix\n",
    "print(arr_2D)"
   ]
  },
  {
   "cell_type": "code",
   "execution_count": 82,
   "id": "f7d518ef",
   "metadata": {},
   "outputs": [
    {
     "name": "stdout",
     "output_type": "stream",
     "text": [
      "[[ 0.67893119 -1.91355421 -0.94245806]\n",
      " [-1.74554298 -1.02094527 -0.16206903]\n",
      " [-0.6579709   0.42211306  0.62402334]]\n"
     ]
    }
   ],
   "source": [
    "arr_2D = np.random.randn(3,3)#samples of  standerd normalise distribution value.\n",
    "print(arr_2D)"
   ]
  },
  {
   "cell_type": "code",
   "execution_count": 84,
   "id": "e55f2e81",
   "metadata": {},
   "outputs": [
    {
     "data": {
      "text/plain": [
       "9"
      ]
     },
     "execution_count": 84,
     "metadata": {},
     "output_type": "execute_result"
    }
   ],
   "source": [
    "x=[1,2,3,4,5,6,7,8,9]\n",
    "choice_from_x=np.random.choice(x)# retun random single item from sequence\n",
    "choice_from_x"
   ]
  },
  {
   "cell_type": "code",
   "execution_count": 86,
   "id": "4c94e6d7",
   "metadata": {},
   "outputs": [
    {
     "name": "stdout",
     "output_type": "stream",
     "text": [
      "8\n",
      "4\n",
      "1\n",
      "5\n",
      "3\n"
     ]
    }
   ],
   "source": [
    "for i in range(5):\n",
    "    print(np.random.choice(x))"
   ]
  },
  {
   "cell_type": "code",
   "execution_count": 87,
   "id": "124a75d9",
   "metadata": {},
   "outputs": [
    {
     "name": "stdout",
     "output_type": "stream",
     "text": [
      "[9 6 5 3 2 8 4 7 1]\n"
     ]
    }
   ],
   "source": [
    "x_permute = np.random.permutation(x)\n",
    "print(x_permute)"
   ]
  },
  {
   "cell_type": "code",
   "execution_count": 88,
   "id": "1f617c47",
   "metadata": {},
   "outputs": [],
   "source": [
    "#Python NumPy String Operations Methods\n",
    "ch_name = \"Indian AI Production\" # create string\n",
    "str1 = \"Learning Python NumPy\" # create string"
   ]
  },
  {
   "cell_type": "code",
   "execution_count": 89,
   "id": "900915da",
   "metadata": {},
   "outputs": [
    {
     "name": "stdout",
     "output_type": "stream",
     "text": [
      "Added two string ch_name and str1 =  Indian AI ProductionLearning Python NumPy\n"
     ]
    }
   ],
   "source": [
    "add_string = np.char.add(ch_name, str1) # add two strings ch_name and str1\n",
    "print(\"Added two string ch_name and str1 = \", add_string)"
   ]
  },
  {
   "cell_type": "code",
   "execution_count": 91,
   "id": "3042b845",
   "metadata": {},
   "outputs": [
    {
     "name": "stdout",
     "output_type": "stream",
     "text": [
      "Duplicated ch_name =  Indian AI ProductionIndian AI ProductionIndian AI Production\n"
     ]
    }
   ],
   "source": [
    "duplicate_ch_name = np.char.multiply(ch_name, 3) # multiply ch_name 2 times\n",
    "print(\"Duplicated ch_name = \", duplicate_ch_name) # print duplicate_ch_name \n"
   ]
  },
  {
   "cell_type": "code",
   "execution_count": 92,
   "id": "014e4ffe",
   "metadata": {},
   "outputs": [
    {
     "name": "stdout",
     "output_type": "stream",
     "text": [
      "Capitalize ch_name =  Indian ai production\n"
     ]
    }
   ],
   "source": [
    "cap_ch_name = np.char.capitalize(ch_name) # capital ch_name\n",
    "print(\"Capitalize ch_name = \", cap_ch_name) # print cap_ch_name \n"
   ]
  },
  {
   "cell_type": "code",
   "execution_count": 93,
   "id": "c4118d28",
   "metadata": {},
   "outputs": [
    {
     "name": "stdout",
     "output_type": "stream",
     "text": [
      "Lower ch_name =  indian ai production\n"
     ]
    }
   ],
   "source": [
    "low_ch_name = np.char.lower(ch_name) # lower ch_name\n",
    "print(\"Lower ch_name = \", low_ch_name) # print ch_name"
   ]
  },
  {
   "cell_type": "code",
   "execution_count": 94,
   "id": "e9b25781",
   "metadata": {},
   "outputs": [
    {
     "name": "stdout",
     "output_type": "stream",
     "text": [
      "Upper ch_name =  INDIAN AI PRODUCTION\n"
     ]
    }
   ],
   "source": [
    "upp_ch_name = np.char.upper(ch_name) # upper ch_name\n",
    "print(\"Upper ch_name = \", upp_ch_name) # print upp_ch_name"
   ]
  },
  {
   "cell_type": "code",
   "execution_count": 95,
   "id": "40a42042",
   "metadata": {},
   "outputs": [
    {
     "name": "stdout",
     "output_type": "stream",
     "text": [
      "Title upp_ch_name =  Indian Ai Production\n"
     ]
    }
   ],
   "source": [
    "tit_upp_ch_name = np.char.title(upp_ch_name) # title upp_ch_name\n",
    "print(\"Title upp_ch_name = \", tit_upp_ch_name) # print tit_upp_ch_name\n"
   ]
  },
  {
   "cell_type": "code",
   "execution_count": 100,
   "id": "9bb7d2be",
   "metadata": {},
   "outputs": [
    {
     "name": "stdout",
     "output_type": "stream",
     "text": [
      "Center ch_name =  **********Indian AI Production**********\n"
     ]
    }
   ],
   "source": [
    "cen_ch_name = np.char.center(ch_name, 40, fillchar = \"*\") # center upp_ch_name\n",
    "print(\"Center ch_name = \", cen_ch_name) # print cen_ch_name\n"
   ]
  },
  {
   "cell_type": "code",
   "execution_count": 101,
   "id": "57393a54",
   "metadata": {},
   "outputs": [
    {
     "name": "stdout",
     "output_type": "stream",
     "text": [
      "Split spl_ch_name =  ['Indian', 'AI', 'Production']\n"
     ]
    }
   ],
   "source": [
    "spl_ch_name = np.char.split(ch_name) # split ch_name\n",
    "print(\"Split spl_ch_name = \", spl_ch_name) # print spl_ch_name"
   ]
  },
  {
   "cell_type": "code",
   "execution_count": 102,
   "id": "dccfbe58",
   "metadata": {},
   "outputs": [
    {
     "name": "stdout",
     "output_type": "stream",
     "text": [
      "Splitlines  =  ['Indian', 'Ai', 'Production']\n"
     ]
    }
   ],
   "source": [
    "splitlines_str = np.char.splitlines(\"Indian\\nAi\\nProduction\") # splitlines string\n",
    "print(\"Splitlines  = \", splitlines_str ) # print splitlines_str \n"
   ]
  },
  {
   "cell_type": "code",
   "execution_count": 103,
   "id": "933506e5",
   "metadata": {},
   "outputs": [
    {
     "name": "stdout",
     "output_type": "stream",
     "text": [
      "Joint dmy by : and / =  ['d:m:y' 'd/m/y']\n"
     ]
    }
   ],
   "source": [
    "join_dmy = np.char.join([\":\", \"/\"], [\"dmy\", \"dmy\"])\n",
    "print(\"Joint dmy by : and / = \", join_dmy)"
   ]
  },
  {
   "cell_type": "code",
   "execution_count": 104,
   "id": "784ba012",
   "metadata": {},
   "outputs": [
    {
     "name": "stdout",
     "output_type": "stream",
     "text": [
      "Replace old string by new =  Indian Artificial Intelligence Production\n"
     ]
    }
   ],
   "source": [
    "rep_ch_name = np.char.replace(ch_name, \"AI\", \"Artificial Intelligence\")\n",
    "print(\"Replace old string by new = \", rep_ch_name)"
   ]
  }
 ],
 "metadata": {
  "kernelspec": {
   "display_name": "Python 3 (ipykernel)",
   "language": "python",
   "name": "python3"
  },
  "language_info": {
   "codemirror_mode": {
    "name": "ipython",
    "version": 3
   },
   "file_extension": ".py",
   "mimetype": "text/x-python",
   "name": "python",
   "nbconvert_exporter": "python",
   "pygments_lexer": "ipython3",
   "version": "3.9.13"
  }
 },
 "nbformat": 4,
 "nbformat_minor": 5
}
